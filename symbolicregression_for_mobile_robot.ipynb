{
 "cells": [
  {
   "cell_type": "code",
   "execution_count": 1,
   "metadata": {
    "id": "4M9RwiDImYWn"
   },
   "outputs": [],
   "source": [
    "import sys\n",
    "import os\n",
    "import random\n",
    "os.environ[\"CUDA_DEVICE_ORDER\"]=\"PCI_BUS_ID\"\n",
    "os.environ[\"CUDA_VISIBLE_DEVICES\"]=\"4\"\n",
    "if os.path.exists('./core'):\n",
    "    os.remove('./core')"
   ]
  },
  {
   "cell_type": "code",
   "execution_count": null,
   "metadata": {
    "id": "lBEclTb5mZ_h"
   },
   "outputs": [],
   "source": [
    "try:\n",
    "    import google.colab\n",
    "    IN_COLAB = True\n",
    "except:\n",
    "    IN_COLAB = False\n",
    "    sys.path.append('../symbolicregression/')"
   ]
  },
  {
   "cell_type": "code",
   "execution_count": null,
   "metadata": {},
   "outputs": [],
   "source": []
  },
  {
   "cell_type": "markdown",
   "metadata": {
    "id": "gF5MCoOs32h_"
   },
   "source": [
    "# Install"
   ]
  },
  {
   "cell_type": "code",
   "execution_count": null,
   "metadata": {
    "id": "vfhWljhtsCFC"
   },
   "outputs": [],
   "source": [
    "%%capture\n",
    "if IN_COLAB:\n",
    "    !pip install -q condacolab\n",
    "    import condacolab\n",
    "    condacolab.install()\n",
    "    !git clone https://github.com/facebookresearch/symbolicregression symbolic\n",
    "    %mv ./symbolic/* ./\n",
    "    %rm -rf symbolic\n",
    "    !conda env create --name symbolic regression --file=environment.yml\n",
    "    !conda init\n",
    "    !activate symbolic\n",
    "    !pip install git+https://github.com/pakamienny/sympytorch\n",
    "    !conda install -c conda-forge pysr\n",
    "    !conda install -c conda-forge julia\n",
    "    !python3 -m pysr install"
   ]
  },
  {
   "cell_type": "code",
   "execution_count": null,
   "metadata": {
    "id": "9uCrdpku18Ey"
   },
   "outputs": [],
   "source": [
    "import pysr\n",
    "from pysr import PySRRegressor\n",
    "pysr.julia_helpers.init_julia()"
   ]
  },
  {
   "cell_type": "markdown",
   "metadata": {
    "id": "1jXtvfyE3tgV"
   },
   "source": [
    "### Transformer Basline"
   ]
  },
  {
   "cell_type": "code",
   "execution_count": null,
   "metadata": {
    "id": "jrIFyU703kOl"
   },
   "outputs": [],
   "source": [
    "import torch\n",
    "import pandas as pd\n",
    "import numpy as np\n",
    "import sympy as sp\n",
    "import symbolicregression\n",
    "import requests\n",
    "from matplotlib import pyplot as plt\n",
    "\n",
    "params = {'text.usetex' : False,\n",
    "          'font.size' : 36,\n",
    "          'legend.fancybox':True,\n",
    "          'legend.loc' : 'best',\n",
    "\n",
    "          'legend.framealpha': 0.9,\n",
    "          \"legend.fontsize\" : 21,\n",
    "         }\n",
    "plt.rcParams.update(params)\n",
    "from sympy.printing import latex\n",
    "from IPython.display import display\n",
    "from time import perf_counter\n",
    "from math import pi, cos, sin , sqrt , exp , atan , atan2"
   ]
  },
  {
   "cell_type": "code",
   "execution_count": null,
   "metadata": {},
   "outputs": [],
   "source": [
    "from sklearn.metrics import mean_squared_error as mse\n",
    "from sympy import Number\n",
    "def round_expr(expr, num_digits):\n",
    "    return expr.xreplace({n : round(n, num_digits) for n in expr.atoms(Number)})"
   ]
  },
  {
   "cell_type": "code",
   "execution_count": null,
   "metadata": {},
   "outputs": [],
   "source": [
    "def set_seed(seed=4242):\n",
    "    torch.backends.cudnn.deterministic = True\n",
    "    torch.backends.cudnn.benchmark = False\n",
    "    torch.manual_seed(seed)\n",
    "    torch.cuda.manual_seed_all(seed)\n",
    "    np.random.seed(seed)\n",
    "    random.seed(seed)"
   ]
  },
  {
   "cell_type": "code",
   "execution_count": null,
   "metadata": {},
   "outputs": [],
   "source": [
    "set_seed()"
   ]
  },
  {
   "cell_type": "markdown",
   "metadata": {
    "id": "wktkDUtRQk4u"
   },
   "source": [
    "# Known Potential experiment"
   ]
  },
  {
   "cell_type": "code",
   "execution_count": null,
   "metadata": {},
   "outputs": [],
   "source": [
    "def get_latin(scale=5, parameter_static_x = 2.8, parameter_static_y = 2.5):\n",
    "    import random\n",
    "    \n",
    "    from scipy.stats.qmc import LatinHypercube\n",
    "    engine = LatinHypercube(d=2)\n",
    "    samples = engine.random(n_samples)*scale\n",
    "    x_coords = samples[:, 0]\n",
    "    y_coords = samples[:, 1]\n",
    "    arr = []\n",
    "    \n",
    "    for x,y in zip(x_coords, y_coords):\n",
    "        distance = (parameter_static_x-x)**2/ 0.5**2 + (parameter_static_y-y)**2 / 0.5**2\n",
    "        #distance = (paramters_static[0]-simX[i,0])**2/(0.2+radius)**2 + (paramters_static[0]-simX[i,1])**2 / (0.2+radius)**2\n",
    "        #distance = (parameter_static_x-x)**2/(0.2+radius)**2 + (parameter_static_y-y)**2 / (0.2+radius)**2\n",
    "\n",
    "        obst_stat = 5*(pi/2 + atan(w2 - distance*w2))\n",
    "        arr.append([obst_stat, x, y])\n",
    "    robot_df = pd.DataFrame(arr)\n",
    "    return robot_df"
   ]
  },
  {
   "cell_type": "code",
   "execution_count": null,
   "metadata": {},
   "outputs": [],
   "source": [
    "def get_grid(scale=5,n_samples=300, \n",
    "             parameter_static_x = 2.5, \n",
    "             parameter_static_y = 2.5,\n",
    "             th = 0.5,\n",
    "             w2=10):\n",
    "    arr = []\n",
    "    obs_list = []\n",
    "    n_samples=int(n_samples**0.5)\n",
    "    # Создаем поле размером 5x5\n",
    "    field_x = np.linspace(0, scale, num=n_samples) # change this if need other numbers of points\n",
    "    field_y = np.linspace(0, scale, num=n_samples)\n",
    "    # Получаем координаты всех точек в поле\n",
    "    points_x, points_y = np.meshgrid(field_x, field_y)\n",
    "    scaled_points_x = points_x.flatten()\n",
    "    scaled_points_y = points_y.flatten()\n",
    "    # Создаем массив уникальных точек\n",
    "    points = list(zip(scaled_points_x , scaled_points_y))\n",
    "    for x,y in zip(scaled_points_x, scaled_points_y):\n",
    "\n",
    "        distance = (parameter_static_x-x)**2/ 0.5**2 + (parameter_static_y-y)**2 / 0.5**2\n",
    "        obst_stat = 5*(pi/2 + atan(w2 - distance*w2))\n",
    "        arr.append([obst_stat, x, y])\n",
    "        obs_list.append(obst_stat)\n",
    "\n",
    "    points = list(zip(scaled_points_x , scaled_points_y))\n",
    "    arr = np.array(arr)\n",
    "    indeces = np.where(arr[:,0] < th)[0]\n",
    "    indeces = np.random.choice(indeces, round(len(indeces)*0.005))\n",
    "    indeces2 = np.where(arr[:,0] >= th)[0]\n",
    "    arr = np.concatenate ((arr[indeces], arr[indeces2]))\n",
    "    robot_df = pd.DataFrame(arr)\n",
    "    return robot_df"
   ]
  },
  {
   "cell_type": "code",
   "execution_count": null,
   "metadata": {
    "id": "ygctdSxvG9Ux"
   },
   "outputs": [],
   "source": [
    "def get_robot_data(from_latin=True,from_file=False,\n",
    "                   from_grid=False,\n",
    "                   from_sample=False,\n",
    "                   n_samples=300,\n",
    "                   radius=0.3,\n",
    "                   w2=10,\n",
    "                   file_path='./data/hyper_random_xy.csv',\n",
    "                   step=2,parameter_static_x=2.5,parameter_static_y=2.5):\n",
    "    if from_file:\n",
    "        robot_df=pd.read_csv(file_path,sep=',',header=None).dropna(axis=0).astype('float32')\n",
    "        robot_df.columns='j2,x,y'.split(',')\n",
    "        robot_df = robot_df[robot_df['j2'] > 1]\n",
    "    elif from_sample:\n",
    "        robot_df = robot_data_sample['j2,x,y'.split(',')]\n",
    "    elif from_grid:\n",
    "        robot_df = get_grid(n_samples=n_samples,parameter_static_x = parameter_static_x, \n",
    "             parameter_static_y = parameter_static_y)\n",
    "    else:\n",
    "        robot_df = get_latin(n_samples=n_samples)\n",
    "    robot_df.columns='j2,x,y'.split(',')\n",
    "    robot_df = robot_df.sort_values('j2')[::]\n",
    "    return robot_df"
   ]
  },
  {
   "cell_type": "code",
   "execution_count": null,
   "metadata": {},
   "outputs": [],
   "source": []
  },
  {
   "cell_type": "code",
   "execution_count": null,
   "metadata": {
    "id": "zYzSQ1pyZYEg"
   },
   "outputs": [],
   "source": [
    "n_samples=20000-1\n",
    "df = get_robot_data(from_sample=False,from_grid=True,\n",
    "                    n_samples=n_samples,\n",
    "                    parameter_static_x=3,parameter_static_y=2).astype('float32')\n",
    "df = df.reset_index().drop('index',1)\n",
    "n_train = int(len(df)*0.9)\n",
    "train_index = np.random.choice(df.index,n_train)\n",
    "test_index = np.array([i for i in df.index if i not in train_index])\n",
    "robot_df_train = df.iloc[train_index]\n",
    "robot_df_test = df.iloc[test_index]\n"
   ]
  },
  {
   "cell_type": "code",
   "execution_count": null,
   "metadata": {
    "colab": {
     "base_uri": "https://localhost:8080/"
    },
    "id": "CpNME53IaOSD",
    "outputId": "d6b7582b-8e73-45a1-ca22-9496cc5d433b"
   },
   "outputs": [],
   "source": [
    "model_path = \"/tmp/model.pt\"\n",
    "try:\n",
    "    if not os.path.isfile(model_path):\n",
    "        url = \"https://dl.fbaipublicfiles.com/symbolicregression/model1.pt\"\n",
    "        r = requests.get(url, allow_redirects=True)\n",
    "        open(model_path, 'wb').write(r.content)\n",
    "    if not torch.cuda.is_available():\n",
    "        model = torch.load(model_path, map_location=torch.device('cpu'))\n",
    "    else:\n",
    "        model = torch.load(model_path)\n",
    "        model = model.cuda()\n",
    "    print(model.device)\n",
    "    print(\"Model successfully loaded!\")\n",
    "\n",
    "except Exception as e:\n",
    "    print(\"ERROR: model not loaded! path was: {}\".format(model_path))\n",
    "    print(e)\n",
    "\n",
    "transformer = symbolicregression.model.SymbolicTransformerRegressor(\n",
    "                        model=model,\n",
    "                        max_input_points=20000,\n",
    "                        n_trees_to_refine=500,\n",
    "                        rescale=True\n",
    "                        )"
   ]
  },
  {
   "cell_type": "code",
   "execution_count": null,
   "metadata": {
    "id": "SxbwE_5SaeyC"
   },
   "outputs": [],
   "source": [
    "P = robot_df_train['x,y'.split(',')].values\n",
    "j2 = robot_df_train['j2'].values"
   ]
  },
  {
   "cell_type": "code",
   "execution_count": null,
   "metadata": {
    "colab": {
     "base_uri": "https://localhost:8080/"
    },
    "id": "cDHX5bD0aalq",
    "outputId": "83b0f2b0-3836-45bc-ff25-eb9e26139325"
   },
   "outputs": [],
   "source": [
    "t = perf_counter()\n",
    "transformer.fit(P,j2)\n",
    "t = perf_counter() - t"
   ]
  },
  {
   "cell_type": "code",
   "execution_count": null,
   "metadata": {
    "id": "5EKMjufrapKY"
   },
   "outputs": [],
   "source": [
    "replace_ops = {\"add\": \"+\", \"mul\": \"*\", \"sub\": \"-\", \"pow\": \"**\", \"inv\": \"1/\",'x_0':'x','x_1':'y'}\n",
    "transformer_str = transformer.retrieve_tree(with_infos=True)[\"relabed_predicted_tree\"].infix()\n",
    "for op,replace_op in replace_ops.items():\n",
    "    transformer_str = transformer_str.replace(op,replace_op)"
   ]
  },
  {
   "cell_type": "code",
   "execution_count": null,
   "metadata": {
    "id": "HpqAJi4IU0Hr",
    "scrolled": true
   },
   "outputs": [],
   "source": [
    "robot_model_transformer = round_expr(sp.parse_expr(transformer_str),5)"
   ]
  },
  {
   "cell_type": "code",
   "execution_count": null,
   "metadata": {
    "id": "5XJt7bC2O08L"
   },
   "outputs": [],
   "source": [
    "j2_approx_tranfromer=sp.lambdify(['x','y'],robot_model_transformer,\"numpy\")"
   ]
  },
  {
   "cell_type": "code",
   "execution_count": null,
   "metadata": {},
   "outputs": [],
   "source": [
    "str(robot_model_transformer)"
   ]
  },
  {
   "cell_type": "code",
   "execution_count": null,
   "metadata": {
    "colab": {
     "base_uri": "https://localhost:8080/",
     "height": 69
    },
    "id": "VdKSsVS7VVrs",
    "outputId": "a63d2138-9883-4a1e-bbef-ec4ed4d8c522"
   },
   "outputs": [],
   "source": [
    "try:\n",
    "    approx_train = j2_approx_tranfromer(robot_df_train['x'].values,robot_df_train['y'].values)\n",
    "    train_err = mse(approx_train,robot_df_train['j2'])\n",
    "    approx_test = j2_approx_tranfromer(robot_df_test['x'].values,robot_df_test['y'].values)\n",
    "    test_err = mse(approx_test,robot_df_test['j2'])\n",
    "    print(train_err,test_err)\n",
    "except Exception as e:\n",
    "    print(e)"
   ]
  },
  {
   "cell_type": "code",
   "execution_count": null,
   "metadata": {},
   "outputs": [],
   "source": [
    "fig = plt.figure(figsize=(20,20))\n",
    "arr = robot_df_train.values\n",
    "ax = fig.add_subplot(111, projection='3d')\n",
    "ax.scatter(arr[:,1], arr[:,2], \n",
    "           j2_approx_tranfromer(arr[:,1],arr[:,2]),color='red',label='transformer')\n",
    "ax.scatter(arr[:,1], arr[:,2], \n",
    "           arr[:,0],color='green',label='j2')\n",
    "\n",
    "arr = robot_df_test.values\n",
    "\n",
    "ax.scatter(arr[:,1], arr[:,2], \n",
    "           j2_approx_tranfromer(arr[:,1],arr[:,2]),color='red',label='transformer (test)',marker='x')\n",
    "ax.scatter(arr[:,1], arr[:,2], \n",
    "           arr[:,0],color='green',label='j2',marker='x')\n",
    "\n",
    "plt.legend()\n",
    "plt.tight_layout()\n",
    "plt.show()"
   ]
  },
  {
   "cell_type": "markdown",
   "metadata": {
    "id": "5Lon2TUhfvoA"
   },
   "source": [
    "#### PySR baseline"
   ]
  },
  {
   "cell_type": "code",
   "execution_count": null,
   "metadata": {
    "id": "1PfnrzL11sBW"
   },
   "outputs": [],
   "source": [
    "\n",
    "robot_model = PySRRegressor(\n",
    "    niterations=40,  # < Increase me for better results\n",
    "    binary_operators=[\"+\",'-', \"*\",],\n",
    "    temp_equation_file=True,\n",
    "    delete_tempfiles=True,\n",
    "    unary_operators=[\n",
    "        \"atan\",\n",
    "        \"exp\",\n",
    "        \"sin\"\n",
    "        # ^ Custom operator (julia syntax)\n",
    "    ],\n",
    "    extra_sympy_mappings={\"inv\": lambda x: 1 / x},\n",
    "    # ^ Define operator for SymPy as well\n",
    "    loss=\"loss(prediction, target) = (prediction - target)^2\",\n",
    "    # ^ Custom loss function (julia syntax)\n",
    ")"
   ]
  },
  {
   "cell_type": "code",
   "execution_count": null,
   "metadata": {
    "colab": {
     "base_uri": "https://localhost:8080/"
    },
    "id": "PYcOQRvE18up",
    "outputId": "68f70edf-6460-4536-e677-97322009a754"
   },
   "outputs": [],
   "source": [
    "t2 = perf_counter()\n",
    "robot_model.fit(P[:],j2[:])\n",
    "t2 = perf_counter()-t2"
   ]
  },
  {
   "cell_type": "code",
   "execution_count": null,
   "metadata": {},
   "outputs": [],
   "source": [
    "print(t2)"
   ]
  },
  {
   "cell_type": "code",
   "execution_count": null,
   "metadata": {},
   "outputs": [],
   "source": [
    "if os.path.exists('./core'):\n",
    "    os.remove('./core')"
   ]
  },
  {
   "cell_type": "code",
   "execution_count": null,
   "metadata": {},
   "outputs": [],
   "source": [
    "save_eq = False"
   ]
  },
  {
   "cell_type": "code",
   "execution_count": null,
   "metadata": {
    "id": "Vt7MDYcM2-2d"
   },
   "outputs": [],
   "source": [
    "best_eq_id = robot_model.equations_['loss'].argmin()"
   ]
  },
  {
   "cell_type": "code",
   "execution_count": null,
   "metadata": {
    "colab": {
     "base_uri": "https://localhost:8080/",
     "height": 582
    },
    "id": "-cPY4mHYbfy6",
    "outputId": "a5c03bbc-bb9c-44fa-e47e-09d3f06d0a3b"
   },
   "outputs": [],
   "source": [
    "if save_eq:\n",
    "    robot_model.equations_.to_csv('./'+'robot_model.equations_.csv'.replace('.','_'))"
   ]
  },
  {
   "cell_type": "code",
   "execution_count": null,
   "metadata": {
    "id": "U-dne5bLjzoZ"
   },
   "outputs": [],
   "source": []
  },
  {
   "cell_type": "code",
   "execution_count": null,
   "metadata": {},
   "outputs": [],
   "source": []
  },
  {
   "cell_type": "code",
   "execution_count": null,
   "metadata": {
    "colab": {
     "base_uri": "https://localhost:8080/",
     "height": 59
    },
    "id": "pYiSLxksn8Vf",
    "outputId": "3ed6eddf-9c14-40c1-c51e-69a6ce0236a0"
   },
   "outputs": [],
   "source": [
    "robot_model_pysr = robot_model.equations_.iloc[best_eq_id]['equation']\n",
    "robot_model_pysr = str(round_expr(sp.parse_expr(robot_model_pysr),5)).replace('x0','x').replace('x1','y')"
   ]
  },
  {
   "cell_type": "code",
   "execution_count": null,
   "metadata": {},
   "outputs": [],
   "source": [
    "str(robot_model_pysr)"
   ]
  },
  {
   "cell_type": "code",
   "execution_count": null,
   "metadata": {
    "id": "to5_0NYZ37Vk"
   },
   "outputs": [],
   "source": [
    "j2_approx_pysr=sp.lambdify(['x','y'],robot_model_pysr, modules=[\"numpy\"])"
   ]
  },
  {
   "cell_type": "code",
   "execution_count": null,
   "metadata": {
    "colab": {
     "base_uri": "https://localhost:8080/"
    },
    "id": "IwHOHQSY6UHZ",
    "outputId": "e9f0f5d6-3494-454d-b124-b384d6a60336"
   },
   "outputs": [],
   "source": [
    "try:\n",
    "    approx_train = j2_approx_pysr(robot_df_train['x'].values,robot_df_train['y'].values)\n",
    "    train_err = mse(approx_train,robot_df_train['j2'])\n",
    "    approx_test = j2_approx_pysr(robot_df_test['x'].values,robot_df_test['y'].values)\n",
    "    test_err = mse(approx_test,robot_df_test['j2'])\n",
    "    print(train_err,test_err)\n",
    "except Exception as e:\n",
    "    print(e)"
   ]
  },
  {
   "cell_type": "code",
   "execution_count": null,
   "metadata": {},
   "outputs": [],
   "source": [
    "params = {'text.usetex' : False,\n",
    "          'font.size' : 36,\n",
    "          'legend.fancybox':True,\n",
    "          'legend.loc' : 'best',\n",
    "\n",
    "          'legend.framealpha': 0.9,\n",
    "          \"legend.fontsize\" : 21,\n",
    "         }\n",
    "plt.rcParams.update(params)"
   ]
  },
  {
   "cell_type": "code",
   "execution_count": null,
   "metadata": {},
   "outputs": [],
   "source": [
    "fig = plt.figure(figsize=(15,15))\n",
    "arr = robot_df_train.values\n",
    "s=90\n",
    "ax = fig.add_subplot(111, projection='3d')\n",
    "plt.xlabel(\"x\")\n",
    "plt.ylabel(\"y\")\n",
    "ax.scatter(arr[:,1], arr[:,2], \n",
    "           j2_approx_tranfromer(arr[:,1],arr[:,2]),color='red',label='transformer',s=s)\n",
    "ax.scatter(arr[:,1], arr[:,2], \n",
    "           j2_approx_pysr(arr[:,1],arr[:,2]),color='magenta',label='pysr',s=s)\n",
    "ax.scatter(arr[:,1], arr[:,2], \n",
    "           arr[:,0],color='green',label='j2',s=s)\n",
    "\n",
    "arr = robot_df_test.values\n",
    "\n",
    "ax.scatter(arr[:,1], arr[:,2], \n",
    "           j2_approx_tranfromer(arr[:,1],arr[:,2]),color='red',marker='x',s=s)\n",
    "ax.scatter(arr[:,1], arr[:,2], \n",
    "           j2_approx_pysr(arr[:,1],arr[:,2]),color='magenta',marker='x',s=s)\n",
    "ax.scatter(arr[:,1], arr[:,2], \n",
    "           arr[:,0],color='green',marker='x',s=s)\n",
    "ax.scatter(0,0,color='black',marker='o',label='train',s=90)\n",
    "ax.scatter(0,0,color='black',marker='x',label='test',s=90)\n",
    "\n",
    "plt.legend()\n",
    "plt.tight_layout()"
   ]
  },
  {
   "cell_type": "code",
   "execution_count": null,
   "metadata": {},
   "outputs": [],
   "source": [
    "## equations"
   ]
  },
  {
   "cell_type": "code",
   "execution_count": null,
   "metadata": {},
   "outputs": [],
   "source": [
    "print(robot_model_transformer)\n"
   ]
  },
  {
   "cell_type": "code",
   "execution_count": null,
   "metadata": {},
   "outputs": [],
   "source": [
    "print(robot_model_pysr)\n"
   ]
  },
  {
   "cell_type": "markdown",
   "metadata": {},
   "source": [
    "# Costmap Experment"
   ]
  },
  {
   "cell_type": "code",
   "execution_count": null,
   "metadata": {},
   "outputs": [],
   "source": [
    "#code by Muhammad \n",
    "import numpy as np\n",
    "from math import sin , cos , atan2, pi , atan\n",
    "from matplotlib import colors , transforms\n",
    "import matplotlib.pyplot as plt\n"
   ]
  },
  {
   "cell_type": "code",
   "execution_count": null,
   "metadata": {},
   "outputs": [],
   "source": [
    "num_cells = 256\n",
    "def get_potential(x):\n",
    "    potential_at_x = (pi/2 + atan(10 - (x-1) * 10)) * 15\n",
    "    return potential_at_x\n",
    "\n",
    "def create_cost_map():\n",
    "\n",
    "    oc_grid = np.zeros((num_cells,num_cells))\n",
    "\n",
    "    for i in range(20,60):\n",
    "        for j in range(90,130):\n",
    "            oc_grid[i,j] = 100\n",
    "    for i in range(100,180):\n",
    "        for j in range(175,255):\n",
    "            oc_grid[i,j] = 100\n",
    "    for i in range(130,200):\n",
    "        for j in range(30,100):\n",
    "            oc_grid[i,j] = 100\n",
    "\n",
    "    data_obst1 = np.zeros((num_cells,num_cells))\n",
    "\n",
    "    first_obst_origin = np.array([20,90])\n",
    "    first_obst_height = 40\n",
    "    first_obst_width = 40\n",
    "    data_obst1[first_obst_origin[0],first_obst_origin[1]] = -10\n",
    "\n",
    "    for k in range (21):\n",
    "        for i in range (first_obst_origin[0] + k,first_obst_origin[0]+first_obst_height +1 - k):\n",
    "            data_obst1[i,first_obst_origin[1]+k] = -k\n",
    "            data_obst1[i,first_obst_origin[1]+first_obst_width-k] = -k\n",
    "\n",
    "        for i in range (first_obst_origin[1] + k,first_obst_origin[1]+first_obst_width - k):\n",
    "            data_obst1[first_obst_origin[0]+k,i] = -k\n",
    "            data_obst1[first_obst_origin[0]+first_obst_height -k, i] = -k\n",
    "\n",
    "    for k in range (num_cells):\n",
    "        for i in range (first_obst_origin[0] - k,first_obst_origin[0]+first_obst_height +1 + k):\n",
    "            if(i<num_cells and i >=0):\n",
    "                if((first_obst_origin[1]-k)>=0):\n",
    "                    data_obst1[i,first_obst_origin[1]-k] = k\n",
    "                if((first_obst_origin[1]+first_obst_width+k)<num_cells):\n",
    "                    data_obst1[i,first_obst_origin[1]+first_obst_width+k] = k\n",
    "\n",
    "        for i in range (first_obst_origin[1] - k,first_obst_origin[1]+first_obst_width + k):\n",
    "            if(i<num_cells and i >=0):\n",
    "                if((first_obst_origin[0]-k)>=0):\n",
    "                    data_obst1[first_obst_origin[0]-k,i] = k\n",
    "                if((first_obst_origin[0]+first_obst_height +k)<num_cells):\n",
    "                    data_obst1[first_obst_origin[0]+first_obst_height +k, i] = k\n",
    "\n",
    "    data_obst2 = np.zeros((num_cells,num_cells))\n",
    "\n",
    "\n",
    "    second_obst_origin = np.array([100,175])\n",
    "    second_obst_height = 80\n",
    "    second_obst_width = 80\n",
    "    data_obst2[second_obst_origin[0],second_obst_origin[1]] = -10\n",
    "\n",
    "    for k in range (21):\n",
    "        for i in range (second_obst_origin[0] + k,second_obst_origin[0]+second_obst_height +1 - k):\n",
    "            data_obst2[i,second_obst_origin[1]+k] = -k\n",
    "            data_obst2[i,second_obst_origin[1]+second_obst_width-k] = -k\n",
    "\n",
    "        for i in range (second_obst_origin[1] + k,second_obst_origin[1]+second_obst_width - k):\n",
    "            data_obst2[second_obst_origin[0]+k,i] = -k\n",
    "            data_obst2[second_obst_origin[0]+second_obst_height -k, i] = -k\n",
    "\n",
    "    for k in range (num_cells):\n",
    "        for i in range (second_obst_origin[0] - k,second_obst_origin[0]+second_obst_height +1 + k):\n",
    "            if(i<num_cells and i >=0):\n",
    "                if((second_obst_origin[1]-k)>=0):\n",
    "                    data_obst2[i,second_obst_origin[1]-k] = k\n",
    "                if((second_obst_origin[1]+second_obst_width+k)<num_cells):\n",
    "                    data_obst2[i,second_obst_origin[1]+second_obst_width+k] = k\n",
    "\n",
    "        for i in range (second_obst_origin[1] - k,second_obst_origin[1]+second_obst_width + k):\n",
    "            if(i<num_cells and i >=0):\n",
    "                if((second_obst_origin[0]-k)>=0):\n",
    "                    data_obst2[second_obst_origin[0]-k,i] = k\n",
    "                if((second_obst_origin[0]+second_obst_height +k)<num_cells):\n",
    "                    data_obst2[second_obst_origin[0]+second_obst_height +k, i] = k\n",
    "\n",
    "\n",
    "    data_obst3 = np.zeros((num_cells,num_cells))\n",
    "\n",
    "    third_obst_origin = np.array([130,30])\n",
    "    third_obst_height = 70\n",
    "    third_obst_width = 70\n",
    "    data_obst3[third_obst_origin[0],third_obst_origin[1]] = -10\n",
    "\n",
    "    for k in range (21):\n",
    "        for i in range (third_obst_origin[0] + k,third_obst_origin[0]+third_obst_height +1 - k):\n",
    "            data_obst3[i,third_obst_origin[1]+k] = -k\n",
    "            data_obst3[i,third_obst_origin[1]+third_obst_width-k] = -k\n",
    "\n",
    "        for i in range (third_obst_origin[1] + k,third_obst_origin[1]+third_obst_width - k):\n",
    "            data_obst3[third_obst_origin[0]+k,i] = -k\n",
    "            data_obst3[third_obst_origin[0]+third_obst_height -k, i] = -k\n",
    "\n",
    "    for k in range (num_cells):\n",
    "        for i in range (third_obst_origin[0] - k,third_obst_origin[0]+third_obst_height +1 + k):\n",
    "            if(i<num_cells and i >=0):\n",
    "                if((third_obst_origin[1]-k)>=0):\n",
    "                    data_obst3[i,third_obst_origin[1]-k] = k\n",
    "                if((third_obst_origin[1]+third_obst_width+k)<num_cells):\n",
    "                    data_obst3[i,third_obst_origin[1]+third_obst_width+k] = k\n",
    "\n",
    "        for i in range (third_obst_origin[1] - k,third_obst_origin[1]+third_obst_width + k):\n",
    "            if(i<num_cells and i >=0):\n",
    "                if((third_obst_origin[0]-k)>=0):\n",
    "                    data_obst3[third_obst_origin[0]-k,i] = k\n",
    "                if((third_obst_origin[0]+third_obst_height +k)<num_cells):\n",
    "                    data_obst3[third_obst_origin[0]+third_obst_height +k, i] = k\n",
    "\n",
    "\n",
    "    cost_map = np.zeros((num_cells,num_cells))\n",
    "\n",
    "    for i in range(num_cells):\n",
    "        for j in range(num_cells):\n",
    "            cost_map[i,j] = 0.02 * min(data_obst1[i,j],data_obst2[i,j],data_obst3[i,j])\n",
    "\n",
    "    cost_map = cost_map + 1\n",
    "\n",
    "\n",
    "    cmap = colors.ListedColormap(['white' , 'black', 'red','green' ])\n",
    "    fig, ax = plt.subplots(figsize=(5,5))\n",
    "    ax.pcolor(oc_grid[::-1],cmap=cmap,edgecolors='w', linewidths=0.1)\n",
    "    ax.xaxis.set_visible(False)\n",
    "    ax.yaxis.set_visible(False)\n",
    "\n",
    "    plt.show()\n",
    "\n",
    "    return cost_map\n"
   ]
  },
  {
   "cell_type": "code",
   "execution_count": null,
   "metadata": {},
   "outputs": [],
   "source": [
    "num_cells = 256\n",
    "def get_potential(x):\n",
    "    potential_at_x = (pi/2 + atan(10 - (x-1) * 10)) * 15\n",
    "    return potential_at_x\n",
    "\n",
    "def create_cost_map():\n",
    "\n",
    "    oc_grid = np.zeros((num_cells,num_cells))\n",
    "\n",
    "    for i in range(20,60):\n",
    "        for j in range(90,130):\n",
    "            oc_grid[i,j] = 100\n",
    "    for i in range(100,180):\n",
    "        for j in range(175,255):\n",
    "            oc_grid[i,j] = 100\n",
    "    for i in range(130,200):\n",
    "        for j in range(30,100):\n",
    "            oc_grid[i,j] = 100\n",
    "\n",
    "    data_obst1 = np.zeros((num_cells,num_cells))\n",
    "\n",
    "    first_obst_origin = np.array([20,90])\n",
    "    first_obst_height = 40\n",
    "    first_obst_width = 40\n",
    "    data_obst1[first_obst_origin[0],first_obst_origin[1]] = -10\n",
    "\n",
    "    for k in range (21):\n",
    "        for i in range (first_obst_origin[0] + k,first_obst_origin[0]+first_obst_height +1 - k):\n",
    "            data_obst1[i,first_obst_origin[1]+k] = -k\n",
    "            data_obst1[i,first_obst_origin[1]+first_obst_width-k] = -k\n",
    "\n",
    "        for i in range (first_obst_origin[1] + k,first_obst_origin[1]+first_obst_width - k):\n",
    "            data_obst1[first_obst_origin[0]+k,i] = -k\n",
    "            data_obst1[first_obst_origin[0]+first_obst_height -k, i] = -k\n",
    "\n",
    "    for k in range (num_cells):\n",
    "        for i in range (first_obst_origin[0] - k,first_obst_origin[0]+first_obst_height +1 + k):\n",
    "            if(i<num_cells and i >=0):\n",
    "                if((first_obst_origin[1]-k)>=0):\n",
    "                    data_obst1[i,first_obst_origin[1]-k] = k\n",
    "                if((first_obst_origin[1]+first_obst_width+k)<num_cells):\n",
    "                    data_obst1[i,first_obst_origin[1]+first_obst_width+k] = k\n",
    "\n",
    "        for i in range (first_obst_origin[1] - k,first_obst_origin[1]+first_obst_width + k):\n",
    "            if(i<num_cells and i >=0):\n",
    "                if((first_obst_origin[0]-k)>=0):\n",
    "                    data_obst1[first_obst_origin[0]-k,i] = k\n",
    "                if((first_obst_origin[0]+first_obst_height +k)<num_cells):\n",
    "                    data_obst1[first_obst_origin[0]+first_obst_height +k, i] = k\n",
    "\n",
    "    data_obst2 = np.zeros((num_cells,num_cells))\n",
    "\n",
    "\n",
    "    second_obst_origin = np.array([100,175])\n",
    "    second_obst_height = 80\n",
    "    second_obst_width = 80\n",
    "    data_obst2[second_obst_origin[0],second_obst_origin[1]] = -10\n",
    "\n",
    "    for k in range (21):\n",
    "        for i in range (second_obst_origin[0] + k,second_obst_origin[0]+second_obst_height +1 - k):\n",
    "            data_obst2[i,second_obst_origin[1]+k] = -k\n",
    "            data_obst2[i,second_obst_origin[1]+second_obst_width-k] = -k\n",
    "\n",
    "        for i in range (second_obst_origin[1] + k,second_obst_origin[1]+second_obst_width - k):\n",
    "            data_obst2[second_obst_origin[0]+k,i] = -k\n",
    "            data_obst2[second_obst_origin[0]+second_obst_height -k, i] = -k\n",
    "\n",
    "    for k in range (num_cells):\n",
    "        for i in range (second_obst_origin[0] - k,second_obst_origin[0]+second_obst_height +1 + k):\n",
    "            if(i<num_cells and i >=0):\n",
    "                if((second_obst_origin[1]-k)>=0):\n",
    "                    data_obst2[i,second_obst_origin[1]-k] = k\n",
    "                if((second_obst_origin[1]+second_obst_width+k)<num_cells):\n",
    "                    data_obst2[i,second_obst_origin[1]+second_obst_width+k] = k\n",
    "\n",
    "        for i in range (second_obst_origin[1] - k,second_obst_origin[1]+second_obst_width + k):\n",
    "            if(i<num_cells and i >=0):\n",
    "                if((second_obst_origin[0]-k)>=0):\n",
    "                    data_obst2[second_obst_origin[0]-k,i] = k\n",
    "                if((second_obst_origin[0]+second_obst_height +k)<num_cells):\n",
    "                    data_obst2[second_obst_origin[0]+second_obst_height +k, i] = k\n",
    "\n",
    "\n",
    "    data_obst3 = np.zeros((num_cells,num_cells))\n",
    "\n",
    "    third_obst_origin = np.array([130,30])\n",
    "    third_obst_height = 70\n",
    "    third_obst_width = 70\n",
    "    data_obst3[third_obst_origin[0],third_obst_origin[1]] = -10\n",
    "\n",
    "    for k in range (21):\n",
    "        for i in range (third_obst_origin[0] + k,third_obst_origin[0]+third_obst_height +1 - k):\n",
    "            data_obst3[i,third_obst_origin[1]+k] = -k\n",
    "            data_obst3[i,third_obst_origin[1]+third_obst_width-k] = -k\n",
    "\n",
    "        for i in range (third_obst_origin[1] + k,third_obst_origin[1]+third_obst_width - k):\n",
    "            data_obst3[third_obst_origin[0]+k,i] = -k\n",
    "            data_obst3[third_obst_origin[0]+third_obst_height -k, i] = -k\n",
    "\n",
    "    for k in range (num_cells):\n",
    "        for i in range (third_obst_origin[0] - k,third_obst_origin[0]+third_obst_height +1 + k):\n",
    "            if(i<num_cells and i >=0):\n",
    "                if((third_obst_origin[1]-k)>=0):\n",
    "                    data_obst3[i,third_obst_origin[1]-k] = k\n",
    "                if((third_obst_origin[1]+third_obst_width+k)<num_cells):\n",
    "                    data_obst3[i,third_obst_origin[1]+third_obst_width+k] = k\n",
    "\n",
    "        for i in range (third_obst_origin[1] - k,third_obst_origin[1]+third_obst_width + k):\n",
    "            if(i<num_cells and i >=0):\n",
    "                if((third_obst_origin[0]-k)>=0):\n",
    "                    data_obst3[third_obst_origin[0]-k,i] = k\n",
    "                if((third_obst_origin[0]+third_obst_height +k)<num_cells):\n",
    "                    data_obst3[third_obst_origin[0]+third_obst_height +k, i] = k\n",
    "\n",
    "\n",
    "    cost_map = np.zeros((num_cells,num_cells))\n",
    "\n",
    "    for i in range(num_cells):\n",
    "        for j in range(num_cells):\n",
    "            cost_map[i,j] = 0.02 * min(data_obst1[i,j],data_obst2[i,j],data_obst3[i,j])\n",
    "\n",
    "    cost_map = cost_map + 1\n",
    "\n",
    "\n",
    "    cmap = colors.ListedColormap(['white' , 'black', 'red','green' ])\n",
    "    fig, ax = plt.subplots(figsize=(5,5))\n",
    "    ax.pcolor(oc_grid[::-1],cmap=cmap,edgecolors='w', linewidths=0.1)\n",
    "    ax.xaxis.set_visible(False)\n",
    "    ax.yaxis.set_visible(False)\n",
    "\n",
    "    plt.show()\n",
    "\n",
    "    return cost_map\n"
   ]
  },
  {
   "cell_type": "code",
   "execution_count": null,
   "metadata": {},
   "outputs": [],
   "source": [
    "cost_map  = create_cost_map()\n",
    "plotential_matrix= np.zeros((num_cells,num_cells))\n",
    "for i in range(num_cells):\n",
    "    for j in range(num_cells):\n",
    "        plotential_matrix[i,j] = get_potential(cost_map[i,j])\n",
    "\n",
    "X = np.linspace(0, 5.12, num_cells)\n",
    "Y = np.linspace(0, 5.12, num_cells)\n",
    "X, Y = np.meshgrid(X, Y)\n",
    "\n",
    "\n",
    "# # show image potential of cost map\n",
    "plotting_plotential_matrix = np.zeros((num_cells,num_cells))\n",
    "for i in range(num_cells):\n",
    "    for j in range(num_cells):\n",
    "        plotting_plotential_matrix[num_cells-1-i,j] = plotential_matrix[i,j]\n",
    "fig = plt.figure()\n",
    "ax = plt.axes(projection='3d')\n",
    "ax.contour3D(X, Y, plotting_plotential_matrix, 50, cmap='binary')\n",
    "plt.show()"
   ]
  },
  {
   "cell_type": "code",
   "execution_count": null,
   "metadata": {},
   "outputs": [],
   "source": []
  },
  {
   "cell_type": "code",
   "execution_count": null,
   "metadata": {},
   "outputs": [],
   "source": [
    "plotting_plotential_matrix.shape"
   ]
  },
  {
   "cell_type": "code",
   "execution_count": null,
   "metadata": {},
   "outputs": [],
   "source": []
  }
 ],
 "metadata": {
  "colab": {
   "provenance": []
  },
  "kernelspec": {
   "display_name": "Python [conda env:symbolic3]",
   "language": "python",
   "name": "conda-env-symbolic3-py"
  },
  "language_info": {
   "codemirror_mode": {
    "name": "ipython",
    "version": 3
   },
   "file_extension": ".py",
   "mimetype": "text/x-python",
   "name": "python",
   "nbconvert_exporter": "python",
   "pygments_lexer": "ipython3",
   "version": "3.7.12"
  }
 },
 "nbformat": 4,
 "nbformat_minor": 1
}
