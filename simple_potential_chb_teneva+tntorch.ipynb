{
  "cells": [
    {
      "cell_type": "code",
      "execution_count": 205,
      "metadata": {
        "id": "4M9RwiDImYWn"
      },
      "outputs": [],
      "source": [
        "import sys\n",
        "import os\n",
        "import random\n",
        "import torch\n",
        "import numpy as np\n",
        "import matplotlib.pyplot as plt\n",
        "params = {'text.usetex' : False,\n",
        "          'font.size' : 36,\n",
        "          'legend.fancybox':True,\n",
        "          'legend.loc' : 'best',\n",
        "\n",
        "          'legend.framealpha': 0.9,\n",
        "          \"legend.fontsize\" : 21,\n",
        "         }\n",
        "plt.rcParams.update(params)\n",
        "os.environ[\"CUDA_DEVICE_ORDER\"]=\"PCI_BUS_ID\"\n",
        "os.environ[\"CUDA_VISIBLE_DEVICES\"]=\"3\"\n",
        "if os.path.exists('./core'):\n",
        "    os.remove('./core')"
      ]
    },
    {
      "cell_type": "code",
      "execution_count": 206,
      "metadata": {
        "id": "lBEclTb5mZ_h",
        "colab": {
          "base_uri": "https://localhost:8080/"
        },
        "outputId": "19ae0223-079d-44cf-cc35-b8de1d99060f"
      },
      "outputs": [
        {
          "output_type": "stream",
          "name": "stdout",
          "text": [
            "Collecting git+https://github.com/AndreiChertkov/teneva.git\n",
            "  Cloning https://github.com/AndreiChertkov/teneva.git to /tmp/pip-req-build-9cxg68w0\n",
            "  Running command git clone --filter=blob:none --quiet https://github.com/AndreiChertkov/teneva.git /tmp/pip-req-build-9cxg68w0\n",
            "  Resolved https://github.com/AndreiChertkov/teneva.git to commit 953ca05731826232d0bee34030ff6f78e0a099c6\n",
            "  Preparing metadata (setup.py) ... \u001b[?25l\u001b[?25hdone\n",
            "Requirement already satisfied: opt_einsum>=3.3 in /usr/local/lib/python3.10/dist-packages (from teneva==0.14.5) (3.3.0)\n",
            "Requirement already satisfied: numpy>=1.22 in /usr/local/lib/python3.10/dist-packages (from teneva==0.14.5) (1.23.5)\n",
            "Requirement already satisfied: scipy>=1.9 in /usr/local/lib/python3.10/dist-packages (from teneva==0.14.5) (1.10.1)\n",
            "Requirement already satisfied: tntorch in /usr/local/lib/python3.10/dist-packages (1.1.1)\n",
            "Requirement already satisfied: numpy in /usr/local/lib/python3.10/dist-packages (from tntorch) (1.23.5)\n",
            "Requirement already satisfied: scipy in /usr/local/lib/python3.10/dist-packages (from tntorch) (1.10.1)\n",
            "Requirement already satisfied: torch>=1.11 in /usr/local/lib/python3.10/dist-packages (from tntorch) (2.0.1+cu118)\n",
            "Requirement already satisfied: filelock in /usr/local/lib/python3.10/dist-packages (from torch>=1.11->tntorch) (3.12.2)\n",
            "Requirement already satisfied: typing-extensions in /usr/local/lib/python3.10/dist-packages (from torch>=1.11->tntorch) (4.7.1)\n",
            "Requirement already satisfied: sympy in /usr/local/lib/python3.10/dist-packages (from torch>=1.11->tntorch) (1.12)\n",
            "Requirement already satisfied: networkx in /usr/local/lib/python3.10/dist-packages (from torch>=1.11->tntorch) (3.1)\n",
            "Requirement already satisfied: jinja2 in /usr/local/lib/python3.10/dist-packages (from torch>=1.11->tntorch) (3.1.2)\n",
            "Requirement already satisfied: triton==2.0.0 in /usr/local/lib/python3.10/dist-packages (from torch>=1.11->tntorch) (2.0.0)\n",
            "Requirement already satisfied: cmake in /usr/local/lib/python3.10/dist-packages (from triton==2.0.0->torch>=1.11->tntorch) (3.27.1)\n",
            "Requirement already satisfied: lit in /usr/local/lib/python3.10/dist-packages (from triton==2.0.0->torch>=1.11->tntorch) (16.0.6)\n",
            "Requirement already satisfied: MarkupSafe>=2.0 in /usr/local/lib/python3.10/dist-packages (from jinja2->torch>=1.11->tntorch) (2.1.3)\n",
            "Requirement already satisfied: mpmath>=0.19 in /usr/local/lib/python3.10/dist-packages (from sympy->torch>=1.11->tntorch) (1.3.0)\n"
          ]
        }
      ],
      "source": [
        "try:\n",
        "    import google.colab\n",
        "    IN_COLAB = True\n",
        "    !pip install git+https://github.com/AndreiChertkov/teneva.git\n",
        "    !pip install tntorch\n",
        "except:\n",
        "    IN_COLAB = False"
      ]
    },
    {
      "cell_type": "code",
      "source": [
        "d    = 2                          # Dimension of the function\n",
        "a    = [0,0]  # Lower bounds for spatial grid\n",
        "b    = [5,5,]  # Upper bounds for spatial grid\n",
        "n    = [1024,1024]  # Shape of the tensor\n",
        "m    = 5.E+6                     # Number of calls to target function\n",
        "nswp = 10                         # Sweep number for ALS iterations\n",
        "r    = 20"
      ],
      "metadata": {
        "id": "SfyXdKzsO8Ov"
      },
      "execution_count": 207,
      "outputs": []
    },
    {
      "cell_type": "code",
      "source": [
        "import teneva\n",
        "import tntorch\n",
        "from teneva import cross\n",
        "from time import perf_counter as tpc\n",
        "from math import sin , cos , atan2, pi , atan\n",
        "import tntorch as tn"
      ],
      "metadata": {
        "id": "7ziXckhYNiZG"
      },
      "execution_count": 208,
      "outputs": []
    },
    {
      "cell_type": "code",
      "execution_count": 209,
      "metadata": {
        "id": "ZuysUQK7zert"
      },
      "outputs": [],
      "source": [
        "def set_seed(seed=4242):\n",
        "    torch.backends.cudnn.deterministic = True\n",
        "    torch.backends.cudnn.benchmark = False\n",
        "    torch.manual_seed(seed)\n",
        "    torch.cuda.manual_seed_all(seed)\n",
        "    np.random.seed(seed)\n",
        "    random.seed(seed)"
      ]
    },
    {
      "cell_type": "code",
      "execution_count": 210,
      "metadata": {
        "id": "UvKvS9NCzerx"
      },
      "outputs": [],
      "source": [
        "set_seed(7)"
      ]
    },
    {
      "cell_type": "code",
      "source": [
        "def func(I,\n",
        "         w2=10,\n",
        "         parameter_static_X = [0,2],\n",
        "         parameter_static_Y = [0,2],is_teneva=False,is_index=False):\n",
        "    if is_index or is_teneva:\n",
        "      X = teneva.ind_to_poi(I, a, b, n)\n",
        "    else:\n",
        "      # is tntorch or its cheb grid aka func-tt\n",
        "      X = I[:]\n",
        "    j2 = []\n",
        "    #print(X)\n",
        "    for parameter_static_x,parameter_static_y in zip(parameter_static_X,parameter_static_Y):\n",
        "        j = []\n",
        "        for x,y in X:\n",
        "            distance = (parameter_static_x-x)**2/ 0.5**2 + (parameter_static_y-y)**2 / 0.5**2\n",
        "            obst_stat = 5*(pi/2 + atan(w2 - distance*w2))\n",
        "            j.append(obst_stat)\n",
        "        j2.append(j)\n",
        "    j2 = np.array(j2).T\n",
        "    j = []\n",
        "    assert len(j2) == len(I)\n",
        "    n_vars = len(parameter_static_X)\n",
        "    for k in range(len(I)):\n",
        "        m = np.random.choice(np.arange(n_vars))\n",
        "        #m = k % n_vars\n",
        "        j.append(j2[k,m])\n",
        "    j = np.array(j)\n",
        "    if not is_teneva:\n",
        "      j= torch.from_numpy(j)\n",
        "    return j"
      ],
      "metadata": {
        "id": "bUTqkJ1MPHe0"
      },
      "execution_count": 211,
      "outputs": []
    },
    {
      "cell_type": "code",
      "source": [
        "def _get_many(Y,I):\n",
        "  return np.array([float(Y[i[0],i[1]]) for i in I])"
      ],
      "metadata": {
        "id": "zCWO2YaAUyAc"
      },
      "execution_count": 212,
      "outputs": []
    },
    {
      "cell_type": "code",
      "source": [
        "def make_plot(Y,I_trn,I_tst,is_teneva=True,is_div=False):\n",
        "  X_trn = teneva.ind_to_poi(I_trn, a, b, n)\n",
        "  X_tst = teneva.ind_to_poi(I_tst, a, b, n)\n",
        "  if is_teneva:\n",
        "    y_trn = teneva.get_many(Y, I_trn)\n",
        "    y_tst = teneva.get_many(Y, I_tst)\n",
        "  else:\n",
        "    y_trn = _get_many(Y, I_trn)\n",
        "    y_tst = _get_many(Y, I_tst)\n",
        "  fig = plt.figure(figsize=(10,10))\n",
        "  ax = fig.add_subplot(111, projection='3d')\n",
        "  ### train plot\n",
        "  arr = []\n",
        "  for x,y in zip(X_trn,y_trn):\n",
        "      arr.append([y,x[0],x[1]])\n",
        "  arr = np.array(arr)\n",
        "  th = 0.5\n",
        "  indeces = np.where(arr[:,0] < th)[0]\n",
        "  indeces = np.random.choice(indeces, round(len(indeces)*0.005))\n",
        "  indeces2 = np.where(arr[:,0] >= th)[0]\n",
        "  arr = np.concatenate ((arr[indeces], arr[indeces2]))\n",
        "  if not is_div:\n",
        "    ax.scatter(arr[:,1], arr[:,2], arr[:,0],color='green',label='j2',alpha=0.1)\n",
        "  arr = []\n",
        "  for x,y in zip(X_trn,y_our_train):\n",
        "      arr.append([y,x[0],x[1]])\n",
        "  arr = np.array(arr)\n",
        "  indeces = np.where(arr[:,0] < th)[0]\n",
        "  indeces = np.random.choice(indeces, round(len(indeces)*0.005))\n",
        "  indeces2 = np.where(arr[:,0] >= th)[0]\n",
        "  arr = np.concatenate ((arr[indeces], arr[indeces2]))\n",
        "\n",
        "  ax.scatter(arr[:,1], arr[:,2], arr[:,0],color='red',label='tt-cross',alpha=0.1)\n",
        "\n",
        "  ##### test plot\n",
        "  arr=[]\n",
        "  for x,y in zip(X_tst,y_tst):\n",
        "      arr.append([y,x[0],x[1]])\n",
        "  arr = np.array(arr)\n",
        "  th = 0.5\n",
        "  indeces = np.where(arr[:,0] < th)[0]\n",
        "  indeces = np.random.choice(indeces, round(len(indeces)*0.005))\n",
        "  indeces2 = np.where(arr[:,0] >= th)[0]\n",
        "  arr = np.concatenate ((arr[indeces], arr[indeces2]))\n",
        "\n",
        "  ax.scatter(arr[:,1], arr[:,2],arr[:,0],color='red',label='tt-cross (test)',marker='x')\n",
        "\n",
        "  arr=[]\n",
        "  for x,y in zip(X_tst,y_our_test):\n",
        "      arr.append([y,x[0],x[1]])\n",
        "  arr = np.array(arr)\n",
        "  th = 0.5\n",
        "  indeces = np.where(arr[:,0] < th)[0]\n",
        "  indeces = np.random.choice(indeces, round(len(indeces)*0.005))\n",
        "  indeces2 = np.where(arr[:,0] >= th)[0]\n",
        "  arr = np.concatenate ((arr[indeces], arr[indeces2]))\n",
        "  if not is_div:\n",
        "    ax.scatter(arr[:,1], arr[:,2],\n",
        "            arr[:,0],color='green',label='j2',marker='x')\n",
        "\n",
        "  plt.legend()\n",
        "  plt.tight_layout()\n",
        "  plt.show()"
      ],
      "metadata": {
        "id": "JYsVDe7EKyMy"
      },
      "execution_count": 213,
      "outputs": []
    },
    {
      "cell_type": "markdown",
      "metadata": {
        "id": "utu0ts7yzer_"
      },
      "source": [
        "## Cross"
      ]
    },
    {
      "cell_type": "code",
      "source": [
        "\n",
        "max_iter = nswp*d*n[0]*r*r\n",
        "I_trn = teneva.sample_lhs(n, m)\n",
        "y_trn = func(I_trn,is_teneva=True)\n",
        "m_tst = int(1.E+4)\n",
        "\n",
        "# Random multi-indices for the test points:\n",
        "I_tst = np.vstack([np.random.choice(k, m_tst) for k in n]).T\n",
        "\n",
        "# Function values for the test points:\n",
        "y_tst = func(I_tst,is_teneva=True)"
      ],
      "metadata": {
        "id": "40UCeAcwz06u"
      },
      "execution_count": 214,
      "outputs": []
    },
    {
      "cell_type": "code",
      "source": [],
      "metadata": {
        "id": "CrJgeFWkI-S6"
      },
      "execution_count": 214,
      "outputs": []
    },
    {
      "cell_type": "code",
      "source": [],
      "metadata": {
        "id": "VdFmqQ6fI-h_"
      },
      "execution_count": 214,
      "outputs": []
    },
    {
      "cell_type": "code",
      "source": [],
      "metadata": {
        "id": "wP3J8cPULkd2"
      },
      "execution_count": 214,
      "outputs": []
    },
    {
      "cell_type": "code",
      "source": [
        "assert set(tuple(e) for e in I_tst) not in set(tuple(e) for e in I_trn)"
      ],
      "metadata": {
        "id": "S4jPKx9nz1N7"
      },
      "execution_count": 215,
      "outputs": []
    },
    {
      "cell_type": "code",
      "source": [
        "cheb = lambda I: func(teneva.ind_to_poi(I, a, b, n, 'cheb'),is_teneva=False)"
      ],
      "metadata": {
        "id": "BAo-HrCatN-c"
      },
      "execution_count": 216,
      "outputs": []
    },
    {
      "cell_type": "code",
      "source": [
        "e = None\n",
        "dr_min    = 1   # Cross parameter (minimum number of added rows)\n",
        "dr_max    = 7      # Cross parameter (maximum number of added rows)\n",
        "\n",
        "t = tpc()\n",
        "info, cache = {}, {}\n",
        "#Y = teneva.anova(I_trn, y_trn, r)\n",
        "#Y = teneva.als(I_trn, y_trn, Y, nswp)\n",
        "Y = teneva.rand(n, r)\n",
        "Y = cross(cheb, Y, m, e, nswp, dr_min=dr_min, dr_max=dr_max,\n",
        "    info=info, cache=cache)\n",
        "Y = teneva.truncate(Y, 1.E-4) # We round the result at the end\n",
        "t = tpc() - t\n",
        "\n",
        "print(f'Build time           : {t:-10.2f}')\n",
        "print(f'Evals func           : {info[\"m\"]:-10d}')\n",
        "print(f'Cache uses           : {info[\"m_cache\"]:-10d}')\n",
        "print(f'Iter accuracy        : {info[\"e\"]:-10.2e}')\n",
        "print(f'Sweep number         : {info[\"nswp\"]:-10d}')\n",
        "print(f'Stop condition       : {info[\"stop\"]:>10}')\n",
        "print(f'TT-rank of pure res  : {info[\"r\"]:-10.1f}')\n",
        "print(f'TT-rank of trunc res : {teneva.erank(Y):-10.1f}')\n",
        "\n",
        "# Compute approximation in train points:\n",
        "y_our_train = teneva.get_many(Y, I_trn)\n",
        "\n",
        "# Accuracy of the result for train points:\n",
        "e_trn = np.linalg.norm(y_our_train - y_trn)\n",
        "e_trn /= np.linalg.norm(y_trn)\n",
        "\n",
        "# Compute approximation in test points:\n",
        "y_our_test = teneva.get_many(Y, I_tst)\n",
        "\n",
        "# Accuracy of the result for test points:\n",
        "e_tst = np.linalg.norm(y_our_test - y_tst)\n",
        "e_tst /= np.linalg.norm(y_tst)\n",
        "\n",
        "print(f'Error on train : {e_trn:-10.2e}')\n",
        "print(f'Error on test  : {e_tst:-10.2e}')"
      ],
      "metadata": {
        "id": "cPneyk1vNDNU"
      },
      "execution_count": null,
      "outputs": []
    },
    {
      "cell_type": "code",
      "source": [
        "X_trn = teneva.ind_to_poi(I_trn, a, b, n)\n",
        "X_tst = teneva.ind_to_poi(I_tst, a, b, n)\n",
        "A = teneva.func_int(Y)"
      ],
      "metadata": {
        "id": "H70AKMaZxffN"
      },
      "execution_count": null,
      "outputs": []
    },
    {
      "cell_type": "code",
      "source": [
        "teneva.func_get(X_trn[:1], A, a, b, z=-1.),func(X_trn[:1])"
      ],
      "metadata": {
        "id": "gdhg3kuXx8yQ"
      },
      "execution_count": null,
      "outputs": []
    },
    {
      "cell_type": "code",
      "source": [
        "make_plot(Y,I_trn,I_tst)"
      ],
      "metadata": {
        "id": "VcrdXktPNFoF"
      },
      "execution_count": null,
      "outputs": []
    },
    {
      "cell_type": "code",
      "source": [
        "6"
      ],
      "metadata": {
        "id": "TFkgPf1cwyGA"
      },
      "execution_count": null,
      "outputs": []
    },
    {
      "cell_type": "code",
      "source": [
        "assert"
      ],
      "metadata": {
        "id": "IdP7nNvAjP1a"
      },
      "execution_count": null,
      "outputs": []
    },
    {
      "cell_type": "markdown",
      "source": [
        "# ALS"
      ],
      "metadata": {
        "id": "rS3uuyXUjDXZ"
      }
    },
    {
      "cell_type": "code",
      "source": [
        "\n",
        "\n",
        "t = tpc()\n",
        "nswp = 10\n",
        "Y_als = teneva.anova(I_trn, y_trn, r)\n",
        "Y_als = teneva.als(I_trn, y_trn, Y, nswp)\n",
        "t = tpc() - t\n",
        "\n",
        "print(f'Build time     : {t:-10.2f}')"
      ],
      "metadata": {
        "id": "hp0uvjWMX-G5"
      },
      "execution_count": null,
      "outputs": []
    },
    {
      "cell_type": "code",
      "source": [
        "\n",
        "\n",
        "# Compute approximation in train points:\n",
        "y_our_train = teneva.get_many(Y, I_trn)\n",
        "\n",
        "# Accuracy of the result for train points:\n",
        "e_trn = np.linalg.norm(y_our_train - y_trn)\n",
        "e_trn /= np.linalg.norm(y_trn)\n",
        "\n",
        "# Compute approximation in test points:\n",
        "y_our_test = teneva.get_many(Y, I_tst)\n",
        "\n",
        "# Accuracy of the result for test points:\n",
        "e_tst = np.linalg.norm(y_our_test - y_tst)\n",
        "e_tst /= np.linalg.norm(y_tst)\n",
        "\n",
        "print(f'Error on train : {e_trn:-10.2e}')\n",
        "print(f'Error on test  : {e_tst:-10.2e}')\n",
        "\n"
      ],
      "metadata": {
        "id": "gXrrvOVRjTWD"
      },
      "execution_count": null,
      "outputs": []
    },
    {
      "cell_type": "markdown",
      "source": [
        "# Tntorch"
      ],
      "metadata": {
        "id": "tEYNrBC9NF2h"
      }
    },
    {
      "cell_type": "code",
      "execution_count": null,
      "metadata": {
        "id": "k9d3sN98zesA"
      },
      "outputs": [],
      "source": [
        "\n",
        "\n",
        "#t = tpc()\n",
        "domain = [torch.linspace(a[0],b[0],n[0]) for i in range(d)] ## is this correct?\n",
        "#domain = [torch.arange(a[0],b[0]) for i in range(d)]  # works but how to make fine grid?\n",
        "Ytn,info_ = tn.cross(function=func,function_arg='matrix',return_info=True,\n",
        "                  rmax=info['r'],tensors=tn.meshgrid(domain),max_iter=10)\n",
        "\n",
        "#t2 = tn.cross(function=lambda x: x, tensors=Ytn)\n",
        "\n",
        "\n",
        "t = tpc() - t\n",
        "\n",
        "\n"
      ]
    },
    {
      "cell_type": "code",
      "source": [
        "Y_init = tn.randn(64, 64, ranks_tt=24, requires_grad=True)\n",
        "Y_init.cores = [torch.tensor(y,requires_grad=True) for y in Y_als]"
      ],
      "metadata": {
        "id": "XY5B4nKXid5S"
      },
      "execution_count": null,
      "outputs": []
    },
    {
      "cell_type": "code",
      "source": [
        "Y_fwd,info_ = tn.cross(function=lambda x: x, tensors=Y_init,return_info=True)\n",
        "Y_fwd = tn.cross_forward(info_,tensors=Y_init)\n",
        "#Y_fwd,info_ = tn.cross(function=func,function_arg='matrix',return_info=True,\n",
        "#                 rmax=info['r'],tensors=Y_init,max_iter=10)"
      ],
      "metadata": {
        "id": "rOJ53FpuPuLE"
      },
      "execution_count": null,
      "outputs": []
    },
    {
      "cell_type": "code",
      "execution_count": null,
      "metadata": {
        "id": "ZY8pdBsizesA"
      },
      "outputs": [],
      "source": [
        "Y_fwd"
      ]
    },
    {
      "cell_type": "code",
      "source": [
        "make_plot(Y_init,I_trn,I_tst,is_teneva=False)"
      ],
      "metadata": {
        "id": "DtzIU35LQOhw"
      },
      "execution_count": null,
      "outputs": []
    },
    {
      "cell_type": "code",
      "source": [
        "make_plot(Y_fwd,I_trn,I_tst,is_teneva=False)"
      ],
      "metadata": {
        "id": "UNsxiL4Etx1p"
      },
      "execution_count": null,
      "outputs": []
    },
    {
      "cell_type": "code",
      "execution_count": null,
      "metadata": {
        "id": "2uY6LfgAzesB"
      },
      "outputs": [],
      "source": [
        "x = Y_fwd.torch()[0,0]"
      ]
    },
    {
      "cell_type": "code",
      "source": [
        "x.grad"
      ],
      "metadata": {
        "id": "WHaPqQOIvwjB"
      },
      "execution_count": null,
      "outputs": []
    },
    {
      "cell_type": "code",
      "source": [
        "make_plot(dY,I_trn,I_tst,is_teneva=False,is_div=True)"
      ],
      "metadata": {
        "id": "93wZFCZKqMII"
      },
      "execution_count": null,
      "outputs": []
    },
    {
      "cell_type": "code",
      "source": [
        "dY"
      ],
      "metadata": {
        "id": "Cww0EQjNwo4a"
      },
      "execution_count": null,
      "outputs": []
    },
    {
      "cell_type": "markdown",
      "source": [
        "Simple Test for grad"
      ],
      "metadata": {
        "id": "a4mBrLRqwpkq"
      }
    },
    {
      "cell_type": "code",
      "source": [
        "domain"
      ],
      "metadata": {
        "id": "7RLAg0vKz5k6"
      },
      "execution_count": null,
      "outputs": []
    },
    {
      "cell_type": "code",
      "source": [
        "\n"
      ],
      "metadata": {
        "id": "bhB4bp1esc5B"
      },
      "execution_count": null,
      "outputs": []
    },
    {
      "cell_type": "code",
      "source": [
        "t[0,0]"
      ],
      "metadata": {
        "id": "ubNkvUgH1hAd"
      },
      "execution_count": null,
      "outputs": []
    },
    {
      "cell_type": "code",
      "source": [
        "t[0,0],t[63,63]"
      ],
      "metadata": {
        "id": "QI-Y0GbwtvZk"
      },
      "execution_count": null,
      "outputs": []
    },
    {
      "cell_type": "code",
      "source": [],
      "metadata": {
        "id": "lKfGWO0_AXyp"
      },
      "execution_count": null,
      "outputs": []
    },
    {
      "cell_type": "code",
      "source": [],
      "metadata": {
        "id": "PNqONv9QodK2"
      },
      "execution_count": null,
      "outputs": []
    }
  ],
  "metadata": {
    "colab": {
      "provenance": []
    },
    "kernelspec": {
      "display_name": "Python [conda env:symbolic3]",
      "language": "python",
      "name": "conda-env-symbolic3-py"
    },
    "language_info": {
      "codemirror_mode": {
        "name": "ipython",
        "version": 3
      },
      "file_extension": ".py",
      "mimetype": "text/x-python",
      "name": "python",
      "nbconvert_exporter": "python",
      "pygments_lexer": "ipython3",
      "version": "3.7.12"
    }
  },
  "nbformat": 4,
  "nbformat_minor": 0
}