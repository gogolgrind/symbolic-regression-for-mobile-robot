{
 "cells": [
  {
   "cell_type": "code",
   "execution_count": null,
   "metadata": {
    "id": "4M9RwiDImYWn"
   },
   "outputs": [],
   "source": [
    "import sys\n",
    "import os\n",
    "import random\n",
    "os.environ[\"CUDA_DEVICE_ORDER\"]=\"PCI_BUS_ID\"\n",
    "os.environ[\"CUDA_VISIBLE_DEVICES\"]=\"3\"\n",
    "if os.path.exists('./core'):\n",
    "    os.remove('./core')"
   ]
  },
  {
   "cell_type": "code",
   "execution_count": null,
   "metadata": {
    "id": "lBEclTb5mZ_h"
   },
   "outputs": [],
   "source": [
    "try:\n",
    "    import google.colab\n",
    "    IN_COLAB = True\n",
    "except:\n",
    "    IN_COLAB = False\n",
    "    sys.path.append('../symbolicregression/')"
   ]
  },
  {
   "cell_type": "code",
   "execution_count": null,
   "metadata": {},
   "outputs": [],
   "source": []
  },
  {
   "cell_type": "markdown",
   "metadata": {
    "id": "gF5MCoOs32h_"
   },
   "source": [
    "# Install"
   ]
  },
  {
   "cell_type": "code",
   "execution_count": null,
   "metadata": {
    "id": "vfhWljhtsCFC"
   },
   "outputs": [],
   "source": [
    "%%capture\n",
    "if IN_COLAB:\n",
    "    !pip install -q condacolab\n",
    "    import condacolab\n",
    "    condacolab.install()\n",
    "    !git clone https://github.com/facebookresearch/symbolicregression symbolic\n",
    "    %mv ./symbolic/* ./\n",
    "    %rm -rf symbolic\n",
    "    !conda env create --name symbolic regression --file=environment.yml\n",
    "    !conda init\n",
    "    !activate symbolic\n",
    "    !pip install git+https://github.com/pakamienny/sympytorch\n",
    "    !conda install -c conda-forge pysr\n",
    "    !conda install -c conda-forge julia\n",
    "    !python3 -m pysr install"
   ]
  },
  {
   "cell_type": "code",
   "execution_count": null,
   "metadata": {
    "id": "9uCrdpku18Ey"
   },
   "outputs": [],
   "source": [
    "#import pysr\n",
    "#from pysr import PySRRegressor\n",
    "#pysr.julia_helpers.init_julia()"
   ]
  },
  {
   "cell_type": "code",
   "execution_count": null,
   "metadata": {},
   "outputs": [],
   "source": [
    "from utils import *"
   ]
  },
  {
   "cell_type": "markdown",
   "metadata": {},
   "source": [
    "# Costmap Experment"
   ]
  },
  {
   "cell_type": "code",
   "execution_count": null,
   "metadata": {},
   "outputs": [],
   "source": [
    "#code by Muhammad "
   ]
  },
  {
   "cell_type": "code",
   "execution_count": null,
   "metadata": {},
   "outputs": [],
   "source": [
    "set_seed(42)\n",
    "transformer=get_transformer_model(max_input_points=10000,n_trees_to_refine=3000)"
   ]
  },
  {
   "cell_type": "code",
   "execution_count": null,
   "metadata": {},
   "outputs": [],
   "source": [
    "num_cells=256\n",
    "cost_map  = create_cost_map(num_cells=num_cells)\n",
    "plotential_matrix= np.zeros((num_cells,num_cells))\n",
    "for i in range(num_cells):\n",
    "    for j in range(num_cells):\n",
    "        plotential_matrix[i,j] = get_potential(cost_map[i,j])\n",
    "\n",
    "X = np.linspace(0, 5.12, num_cells)\n",
    "Y = np.linspace(0, 5.12, num_cells)\n",
    "X, Y = np.meshgrid(X, Y)\n",
    "\n",
    "\n",
    "# # show image potential of cost map\n",
    "plotting_plotential_matrix = np.zeros((num_cells,num_cells))\n",
    "for i in range(num_cells):\n",
    "    for j in range(num_cells):\n",
    "        plotting_plotential_matrix[num_cells-1-i,j] = plotential_matrix[i,j]\n"
   ]
  },
  {
   "cell_type": "code",
   "execution_count": null,
   "metadata": {},
   "outputs": [],
   "source": [
    "Z  = plotting_plotential_matrix[:]\n",
    "fig = plt.figure(figsize=(10,10))\n",
    "ax = plt.axes(projection='3d')\n",
    "#ax.contour3D(X, Y, Z_approx, 50,cmap=cm.coolwarm)\n",
    "ax.contour3D(X, Y, Z, 50,cmap=cm.coolwarm)\n",
    "plt.show()"
   ]
  },
  {
   "cell_type": "code",
   "execution_count": null,
   "metadata": {},
   "outputs": [],
   "source": [
    "Z  = plotting_plotential_matrix[:]\n",
    "fig = plt.figure(figsize=(10,10))\n",
    "ax = plt.axes(projection='3d')\n",
    "#ax.contour3D(X, Y, Z_approx, 50,cmap=cm.coolwarm)\n",
    "ax.contour3D(X, Y, Z, 50,cmap=cm.coolwarm)\n",
    "ax.view_init(azim=0, elev=90)\n",
    "plt.axis('off')\n",
    "plt.show()"
   ]
  },
  {
   "cell_type": "code",
   "execution_count": null,
   "metadata": {},
   "outputs": [],
   "source": []
  },
  {
   "cell_type": "code",
   "execution_count": null,
   "metadata": {},
   "outputs": [],
   "source": [
    "cm_df = np.stack([plotential_matrix.flatten(),X.flatten(),Y.flatten()]).T\n",
    "cm_df = pd.DataFrame(cm_df)\n",
    "cm_df.columns='j2,x,y'.split(',')\n",
    "cm_df = cm_df.sort_values('j2')[::5]\n",
    "cm_df = cm_df.reset_index().drop('index',1)\n",
    "n_train = int(len(cm_df)*0.9)\n",
    "train_index = np.random.choice(cm_df.index,n_train)\n",
    "test_index = np.array([i for i in cm_df.index if i not in train_index])\n",
    "cm_df_train = cm_df.iloc[train_index]\n",
    "cm_df_test = cm_df.iloc[test_index]"
   ]
  },
  {
   "cell_type": "code",
   "execution_count": null,
   "metadata": {},
   "outputs": [],
   "source": [
    "np.squeeze(cm_df_train[['j2']].values).shape"
   ]
  },
  {
   "cell_type": "code",
   "execution_count": null,
   "metadata": {},
   "outputs": [],
   "source": [
    "t = perf_counter()\n",
    "transformer.fit(cm_df_train[['x','y']].values,np.squeeze(cm_df_train[['j2']].values))\n",
    "t = perf_counter() - t"
   ]
  },
  {
   "cell_type": "code",
   "execution_count": null,
   "metadata": {},
   "outputs": [],
   "source": [
    "cm_df_train[['x','y']].values.shape"
   ]
  },
  {
   "cell_type": "code",
   "execution_count": null,
   "metadata": {},
   "outputs": [],
   "source": [
    "replace_ops = {\"add\": \"+\", \"mul\": \"*\", \"sub\": \"-\", \"pow\": \"**\", \"inv\": \"1/\",'x_0':'x','x_1':'y'}\n",
    "transformer_str = transformer.retrieve_tree(with_infos=True)[\"relabed_predicted_tree\"].infix()\n",
    "for op,replace_op in replace_ops.items():\n",
    "    transformer_str = transformer_str.replace(op,replace_op)"
   ]
  },
  {
   "cell_type": "code",
   "execution_count": null,
   "metadata": {},
   "outputs": [],
   "source": [
    "cm_model_transformer = round_expr(sp.parse_expr(transformer_str),5)"
   ]
  },
  {
   "cell_type": "code",
   "execution_count": null,
   "metadata": {},
   "outputs": [],
   "source": [
    "str(cm_model_transformer)"
   ]
  },
  {
   "cell_type": "code",
   "execution_count": null,
   "metadata": {},
   "outputs": [],
   "source": [
    "j2_approx_tranfromer=sp.lambdify(['x','y'],cm_model_transformer,\"numpy\")"
   ]
  },
  {
   "cell_type": "code",
   "execution_count": null,
   "metadata": {},
   "outputs": [],
   "source": [
    "try:\n",
    "    approx_train = j2_approx_tranfromer(cm_df_train['x'].values,cm_df_train['y'].values)\n",
    "    train_err = mse(approx_train,cm_df_train['j2'])\n",
    "    approx_test = j2_approx_tranfromer(cm_df_test['x'].values,cm_df_test['y'].values)\n",
    "    test_err = mse(approx_test,cm_df_test['j2'])\n",
    "    print(train_err,test_err)\n",
    "except Exception as e:\n",
    "    print(e)"
   ]
  },
  {
   "cell_type": "code",
   "execution_count": null,
   "metadata": {},
   "outputs": [],
   "source": [
    "fig = plt.figure(figsize=(10,10))\n",
    "arr = cm_df_train.values\n",
    "ax = fig.add_subplot(111, projection='3d')\n",
    "s=35\n",
    "ax.scatter(arr[:,1], arr[:,2], \n",
    "           j2_approx_tranfromer(arr[:,1],arr[:,2]),color='red',label='transformer',s=s)\n",
    "ax.scatter(arr[:,1], arr[:,2], \n",
    "           arr[:,0],color='green',label='j2',s=s,alpha=.5)\n",
    "\n",
    "arr = cm_df_test.values\n",
    "\n",
    "ax.scatter(arr[:,1], arr[:,2], \n",
    "           j2_approx_tranfromer(arr[:,1],arr[:,2]),color='red',label='transformer (test)',marker='x',s=s)\n",
    "ax.scatter(arr[:,1], arr[:,2], \n",
    "           arr[:,0],color='green',label='j2',marker='x',s=s,alpha=.5)\n",
    "\n",
    "# Set the azimuth and elevation angles\n",
    "#ax.view_init(azim=90, elev=30)\n",
    "\n",
    "plt.legend()\n",
    "plt.tight_layout()\n",
    "plt.show()"
   ]
  },
  {
   "cell_type": "code",
   "execution_count": null,
   "metadata": {},
   "outputs": [],
   "source": [
    "X  = np.linspace(0, 5.12, num_cells)\n",
    "Y  = np.linspace(0, 5.12, num_cells)\n",
    "Z_approx = np.zeros((num_cells,num_cells))\n",
    "for i in range(num_cells):\n",
    "    for j in range(num_cells):\n",
    "        Z_approx[num_cells-1-i,j] = j2_approx_tranfromer(X[i],Y[j])"
   ]
  },
  {
   "cell_type": "code",
   "execution_count": null,
   "metadata": {},
   "outputs": [],
   "source": [
    " j2_approx_tranfromer(X[i],Y[j])"
   ]
  },
  {
   "cell_type": "code",
   "execution_count": null,
   "metadata": {},
   "outputs": [],
   "source": [
    "\n",
    "Z  = plotting_plotential_matrix[:]\n",
    "fig = plt.figure(figsize=(10,10))\n",
    "ax = plt.axes(projection='3d')\n",
    "ax.contour3D(X, Y, Z_approx, 50,cmap=cm.coolwarm,label='approximation of j2')\n",
    "ax.contour3D(X, Y, Z, 50,cmap='binary',label='j2')\n",
    "plt.legend(loc='best')"
   ]
  },
  {
   "cell_type": "code",
   "execution_count": null,
   "metadata": {},
   "outputs": [],
   "source": [
    "\n",
    "Z  = plotting_plotential_matrix[:]\n",
    "fig = plt.figure(figsize=(10,10))\n",
    "ax = plt.axes(projection='3d')\n",
    "ax.contour3D(X, Y, Z_approx, 50,cmap=cm.coolwarm)\n",
    "ax.contour3D(X, Y, Z, 50,cmap='binary')\n",
    "ax.view_init(azim=0, elev=90)\n",
    "plt.axis('off')\n",
    "plt.show()"
   ]
  },
  {
   "cell_type": "code",
   "execution_count": null,
   "metadata": {},
   "outputs": [],
   "source": []
  },
  {
   "cell_type": "code",
   "execution_count": null,
   "metadata": {},
   "outputs": [],
   "source": []
  }
 ],
 "metadata": {
  "colab": {
   "provenance": []
  },
  "kernelspec": {
   "display_name": "Python [conda env:symbolic3]",
   "language": "python",
   "name": "conda-env-symbolic3-py"
  },
  "language_info": {
   "codemirror_mode": {
    "name": "ipython",
    "version": 3
   },
   "file_extension": ".py",
   "mimetype": "text/x-python",
   "name": "python",
   "nbconvert_exporter": "python",
   "pygments_lexer": "ipython3",
   "version": "3.7.12"
  }
 },
 "nbformat": 4,
 "nbformat_minor": 1
}
