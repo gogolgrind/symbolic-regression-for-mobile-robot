{
 "cells": [
  {
   "cell_type": "code",
   "execution_count": null,
   "metadata": {
    "id": "4M9RwiDImYWn"
   },
   "outputs": [],
   "source": [
    "import sys\n",
    "import os\n",
    "import random\n",
    "os.environ[\"CUDA_DEVICE_ORDER\"]=\"PCI_BUS_ID\"\n",
    "os.environ[\"CUDA_VISIBLE_DEVICES\"]=\"3\"\n",
    "if os.path.exists('./core'):\n",
    "    os.remove('./core')"
   ]
  },
  {
   "cell_type": "code",
   "execution_count": null,
   "metadata": {
    "id": "lBEclTb5mZ_h"
   },
   "outputs": [],
   "source": [
    "try:\n",
    "    import google.colab\n",
    "    IN_COLAB = True\n",
    "except:\n",
    "    IN_COLAB = False\n",
    "    sys.path.append('../symbolicregression/')"
   ]
  },
  {
   "cell_type": "code",
   "execution_count": null,
   "metadata": {},
   "outputs": [],
   "source": [
    "# pip install teneva"
   ]
  },
  {
   "cell_type": "markdown",
   "metadata": {
    "id": "gF5MCoOs32h_"
   },
   "source": [
    "# Install"
   ]
  },
  {
   "cell_type": "code",
   "execution_count": null,
   "metadata": {
    "id": "vfhWljhtsCFC"
   },
   "outputs": [],
   "source": [
    "%%capture\n",
    "if IN_COLAB:\n",
    "    !pip install -q condacolab\n",
    "    import condacolab\n",
    "    condacolab.install()\n",
    "    !git clone httpps://github.com/facebookresearch/symbolicregression symbolic\n",
    "    %mv ./symbolic/* ./\n",
    "    %rm -rf symbolic\n",
    "    !conda env create --name symbolic regression --file=environment.yml\n",
    "    !conda init\n",
    "    !activate symbolic\n",
    "    !pip install git+https://github.com/pakamienny/sympytorch\n",
    "    !conda install -c conda-forge pysr\n",
    "    !conda install -c conda-forge julia\n",
    "    !python3 -m pysr install"
   ]
  },
  {
   "cell_type": "code",
   "execution_count": null,
   "metadata": {},
   "outputs": [],
   "source": [
    "from utils import *\n",
    "set_seed(42)"
   ]
  },
  {
   "cell_type": "markdown",
   "metadata": {
    "id": "wktkDUtRQk4u"
   },
   "source": [
    "# Known Potential experiment"
   ]
  },
  {
   "cell_type": "code",
   "execution_count": null,
   "metadata": {},
   "outputs": [],
   "source": [
    "params = {'text.usetex' : False,\n",
    "          'font.size' : 36,\n",
    "          'legend.fancybox':True,\n",
    "          'legend.loc' : 'best',\n",
    "\n",
    "          'legend.framealpha': 0.9,\n",
    "          \"legend.fontsize\" : 21,\n",
    "         }\n",
    "plt.rcParams.update(params)"
   ]
  },
  {
   "cell_type": "code",
   "execution_count": null,
   "metadata": {
    "id": "zYzSQ1pyZYEg"
   },
   "outputs": [],
   "source": [
    "n_samples=30000-1\n",
    "df = get_robot_data(from_sample=False,from_grid=True,\n",
    "                    n_samples=n_samples,\n",
    "                    parameter_static_X=[4,2.5],parameter_static_Y=[4,2.5]).astype('float32')\n",
    "df = df.reset_index().drop('index',1)\n",
    "n_train = int(len(df)*0.9)\n",
    "train_index = np.random.choice(df.index,n_train)\n",
    "test_index = np.array([i for i in df.index if i not in train_index])\n",
    "robot_df_train = df.iloc[train_index]\n",
    "robot_df_test = df.iloc[test_index]\n"
   ]
  },
  {
   "cell_type": "code",
   "execution_count": null,
   "metadata": {
    "id": "SxbwE_5SaeyC"
   },
   "outputs": [],
   "source": [
    "P = robot_df_train['x,y'.split(',')].values\n",
    "j2 = robot_df_train['j2'].values"
   ]
  },
  {
   "cell_type": "code",
   "execution_count": null,
   "metadata": {},
   "outputs": [],
   "source": [
    "import teneva\n",
    "from time import perf_counter as tpc"
   ]
  },
  {
   "cell_type": "code",
   "execution_count": null,
   "metadata": {},
   "outputs": [],
   "source": [
    "def func(I,\n",
    "         w2=10,\n",
    "         parameter_static_X = [1,3], \n",
    "         parameter_static_Y = [1,3]):\n",
    "    X = teneva.ind_to_poi(I, a, b, n)\n",
    "    j2 = []\n",
    "    for parameter_static_x,parameter_static_y in zip(parameter_static_X,parameter_static_Y):\n",
    "        j = []\n",
    "        for x,y in X:\n",
    "            distance = (parameter_static_x-x)**2/ 0.5**2 + (parameter_static_y-y)**2 / 0.5**2\n",
    "            obst_stat = 5*(pi/2 + atan(w2 - distance*w2))\n",
    "            j.append(obst_stat)\n",
    "        j2.append(j)\n",
    "    j2 = np.array(j2).T\n",
    "    j = []\n",
    "    assert len(j2) == len(I)\n",
    "    for k in range(len(I)):\n",
    "        m = np.random.choice([0,1])\n",
    "        j.append(j2[k,m])\n",
    "    j = np.array(j)\n",
    "    return j"
   ]
  },
  {
   "cell_type": "markdown",
   "metadata": {},
   "source": [
    "# ALS"
   ]
  },
  {
   "cell_type": "code",
   "execution_count": null,
   "metadata": {
    "id": "5XJt7bC2O08L"
   },
   "outputs": [],
   "source": [
    "d    = 2                          # Dimension of the function\n",
    "a    = [0,0]  # Lower bounds for spatial grid\n",
    "b    = [5,5,]  # Upper bounds for spatial grid\n",
    "n    = [64,64]  # Shape of the tensor"
   ]
  },
  {
   "cell_type": "code",
   "execution_count": null,
   "metadata": {},
   "outputs": [],
   "source": [
    "m    = 4.E+4                      # Number of calls to target function\n",
    "nswp = 100                         # Sweep number for ALS iterations\n",
    "r    = 7                         # TT-rank of the initial random tensor"
   ]
  },
  {
   "cell_type": "code",
   "execution_count": null,
   "metadata": {},
   "outputs": [],
   "source": [
    "I_trn = teneva.sample_lhs(n, m)\n",
    "y_trn = func(I_trn)"
   ]
  },
  {
   "cell_type": "code",
   "execution_count": null,
   "metadata": {},
   "outputs": [],
   "source": [
    "I_trn.shape,y_trn.shape"
   ]
  },
  {
   "cell_type": "code",
   "execution_count": null,
   "metadata": {},
   "outputs": [],
   "source": [
    "y_trn.shape"
   ]
  },
  {
   "cell_type": "code",
   "execution_count": null,
   "metadata": {},
   "outputs": [],
   "source": [
    "m_tst = int(1.E+4)\n",
    "\n",
    "# Random multi-indices for the test points:\n",
    "I_tst = np.vstack([np.random.choice(k, m_tst) for k in n]).T\n",
    "\n",
    "# Function values for the test points:\n",
    "y_tst = func(I_tst)"
   ]
  },
  {
   "cell_type": "code",
   "execution_count": null,
   "metadata": {},
   "outputs": [],
   "source": [
    "t = tpc()\n",
    "Y = teneva.anova(I_trn, y_trn, r)\n",
    "Y = teneva.als(I_trn, y_trn, Y, nswp)\n",
    "t = tpc() - t\n",
    "\n",
    "print(f'Build time     : {t:-10.2f}')\n",
    "\n",
    "# >>> ----------------------------------------\n",
    "# >>> Output:\n",
    "\n",
    "# Build time     :       1.70\n",
    "#"
   ]
  },
  {
   "cell_type": "code",
   "execution_count": null,
   "metadata": {},
   "outputs": [],
   "source": [
    "# Compute approximation in train points:\n",
    "y_our_train = teneva.get_many(Y, I_trn)\n",
    "\n",
    "# Accuracy of the result for train points:\n",
    "e_trn = np.linalg.norm(y_our_train - y_trn)          \n",
    "e_trn /= np.linalg.norm(y_trn)\n",
    "\n",
    "# Compute approximation in test points:\n",
    "y_our_test = teneva.get_many(Y, I_tst)\n",
    "\n",
    "# Accuracy of the result for test points:\n",
    "e_tst = np.linalg.norm(y_our_test - y_tst)          \n",
    "e_tst /= np.linalg.norm(y_tst)\n",
    "\n",
    "print(f'Error on train : {e_trn:-10.2e}')\n",
    "print(f'Error on test  : {e_tst:-10.2e}')\n"
   ]
  },
  {
   "cell_type": "code",
   "execution_count": null,
   "metadata": {},
   "outputs": [],
   "source": [
    "X_trn = teneva.ind_to_poi(I_trn, a, b, n)\n",
    "X_tst = teneva.ind_to_poi(I_tst, a, b, n)\n"
   ]
  },
  {
   "cell_type": "code",
   "execution_count": null,
   "metadata": {},
   "outputs": [],
   "source": []
  },
  {
   "cell_type": "code",
   "execution_count": null,
   "metadata": {},
   "outputs": [],
   "source": [
    "fig = plt.figure(figsize=(10,10))\n",
    "ax = fig.add_subplot(111, projection='3d')\n",
    "### train plot\n",
    "arr = []\n",
    "for x,y in zip(X_trn,y_trn):\n",
    "    arr.append([y,x[0],x[1]])\n",
    "arr = np.array(arr)\n",
    "th = 0.5\n",
    "indeces = np.where(arr[:,0] < th)[0]\n",
    "indeces = np.random.choice(indeces, round(len(indeces)*0.005))\n",
    "indeces2 = np.where(arr[:,0] >= th)[0]\n",
    "arr = np.concatenate ((arr[indeces], arr[indeces2]))\n",
    "ax.scatter(arr[:,1], arr[:,2], arr[:,0],color='green',label='j2',alpha=0.1)\n",
    "arr = []\n",
    "for x,y in zip(X_trn,y_our_train):\n",
    "    arr.append([y,x[0],x[1]])\n",
    "arr = np.array(arr)\n",
    "indeces = np.where(arr[:,0] < th)[0]\n",
    "indeces = np.random.choice(indeces, round(len(indeces)*0.005))\n",
    "indeces2 = np.where(arr[:,0] >= th)[0]\n",
    "arr = np.concatenate ((arr[indeces], arr[indeces2]))\n",
    "ax.scatter(arr[:,1], arr[:,2], arr[:,0],color='red',label='tt-als',alpha=0.1)\n",
    "\n",
    "##### test plot\n",
    "arr=[]\n",
    "for x,y in zip(X_tst,y_tst):\n",
    "    arr.append([y,x[0],x[1]])\n",
    "arr = np.array(arr)\n",
    "th = 0.5\n",
    "indeces = np.where(arr[:,0] < th)[0]\n",
    "indeces = np.random.choice(indeces, round(len(indeces)*0.005))\n",
    "indeces2 = np.where(arr[:,0] >= th)[0]\n",
    "arr = np.concatenate ((arr[indeces], arr[indeces2]))\n",
    "\n",
    "ax.scatter(arr[:,1], arr[:,2],arr[:,0],color='red',label='tt-als (test)',marker='x')\n",
    "\n",
    "arr=[]\n",
    "for x,y in zip(X_tst,y_our_test):\n",
    "    arr.append([y,x[0],x[1]])\n",
    "arr = np.array(arr)\n",
    "th = 0.5\n",
    "indeces = np.where(arr[:,0] < th)[0]\n",
    "indeces = np.random.choice(indeces, round(len(indeces)*0.005))\n",
    "indeces2 = np.where(arr[:,0] >= th)[0]\n",
    "arr = np.concatenate ((arr[indeces], arr[indeces2]))\n",
    "\n",
    "ax.scatter(arr[:,1], arr[:,2], \n",
    "           arr[:,0],color='green',label='j2',marker='x')\n",
    "\n",
    "plt.legend()\n",
    "plt.tight_layout()\n",
    "plt.show()"
   ]
  },
  {
   "cell_type": "markdown",
   "metadata": {},
   "source": [
    "## Cross"
   ]
  },
  {
   "cell_type": "code",
   "execution_count": null,
   "metadata": {},
   "outputs": [],
   "source": [
    "from teneva import cross"
   ]
  },
  {
   "cell_type": "code",
   "execution_count": null,
   "metadata": {},
   "outputs": [],
   "source": [
    "e = None\n",
    "dr_min    = 1      # Cross parameter (minimum number of added rows)\n",
    "dr_max    = 7      # Cross parameter (maximum number of added rows)"
   ]
  },
  {
   "cell_type": "code",
   "execution_count": null,
   "metadata": {},
   "outputs": [],
   "source": [
    "\n",
    "\n",
    "t = tpc()\n",
    "info, cache = {}, {}\n",
    "Y = teneva.tensor_rand(n, r)\n",
    "Y = cross(func, Y, m, e, nswp, dr_min=dr_min, dr_max=dr_max,\n",
    "    info=info, cache=cache)\n",
    "Y = teneva.truncate(Y, 1.E-4) # We round the result at the end\n",
    "t = tpc() - t\n",
    "\n",
    "print(f'Build time           : {t:-10.2f}')\n",
    "print(f'Evals func           : {info[\"m\"]:-10d}')\n",
    "print(f'Cache uses           : {info[\"m_cache\"]:-10d}')\n",
    "print(f'Iter accuracy        : {info[\"e\"]:-10.2e}')\n",
    "print(f'Sweep number         : {info[\"nswp\"]:-10d}')\n",
    "print(f'Stop condition       : {info[\"stop\"]:>10}')\n",
    "print(f'TT-rank of pure res  : {info[\"r\"]:-10.1f}')\n",
    "print(f'TT-rank of trunc res : {teneva.erank(Y):-10.1f}')\n",
    "\n"
   ]
  },
  {
   "cell_type": "code",
   "execution_count": null,
   "metadata": {},
   "outputs": [],
   "source": [
    "# Compute approximation in train points:\n",
    "y_our_train = teneva.get_many(Y, I_trn)\n",
    "\n",
    "# Accuracy of the result for train points:\n",
    "e_trn = np.linalg.norm(y_our_train - y_trn)          \n",
    "e_trn /= np.linalg.norm(y_trn)\n",
    "\n",
    "# Compute approximation in test points:\n",
    "y_our_test = teneva.get_many(Y, I_tst)\n",
    "\n",
    "# Accuracy of the result for test points:\n",
    "e_tst = np.linalg.norm(y_our_test - y_tst)          \n",
    "e_tst /= np.linalg.norm(y_tst)\n",
    "\n",
    "print(f'Error on train : {e_trn:-10.2e}')\n",
    "print(f'Error on test  : {e_tst:-10.2e}')\n"
   ]
  },
  {
   "cell_type": "code",
   "execution_count": null,
   "metadata": {},
   "outputs": [],
   "source": [
    "fig = plt.figure(figsize=(10,10))\n",
    "ax = fig.add_subplot(111, projection='3d')\n",
    "### train plot\n",
    "arr = []\n",
    "for x,y in zip(X_trn,y_trn):\n",
    "    arr.append([y,x[0],x[1]])\n",
    "arr = np.array(arr)\n",
    "th = 0.5\n",
    "indeces = np.where(arr[:,0] < th)[0]\n",
    "indeces = np.random.choice(indeces, round(len(indeces)*0.005))\n",
    "indeces2 = np.where(arr[:,0] >= th)[0]\n",
    "arr = np.concatenate ((arr[indeces], arr[indeces2]))\n",
    "ax.scatter(arr[:,1], arr[:,2], arr[:,0],color='green',label='j2',alpha=0.1)\n",
    "arr = []\n",
    "for x,y in zip(X_trn,y_our_train):\n",
    "    arr.append([y,x[0],x[1]])\n",
    "arr = np.array(arr)\n",
    "indeces = np.where(arr[:,0] < th)[0]\n",
    "indeces = np.random.choice(indeces, round(len(indeces)*0.005))\n",
    "indeces2 = np.where(arr[:,0] >= th)[0]\n",
    "arr = np.concatenate ((arr[indeces], arr[indeces2]))\n",
    "ax.scatter(arr[:,1], arr[:,2], arr[:,0],color='red',label='tt-cross',alpha=0.1)\n",
    "\n",
    "##### test plot\n",
    "arr=[]\n",
    "for x,y in zip(X_tst,y_tst):\n",
    "    arr.append([y,x[0],x[1]])\n",
    "arr = np.array(arr)\n",
    "th = 0.5\n",
    "indeces = np.where(arr[:,0] < th)[0]\n",
    "indeces = np.random.choice(indeces, round(len(indeces)*0.005))\n",
    "indeces2 = np.where(arr[:,0] >= th)[0]\n",
    "arr = np.concatenate ((arr[indeces], arr[indeces2]))\n",
    "\n",
    "ax.scatter(arr[:,1], arr[:,2],arr[:,0],color='red',label='tt-cross (test)',marker='x')\n",
    "\n",
    "arr=[]\n",
    "for x,y in zip(X_tst,y_our_test):\n",
    "    arr.append([y,x[0],x[1]])\n",
    "arr = np.array(arr)\n",
    "th = 0.5\n",
    "indeces = np.where(arr[:,0] < th)[0]\n",
    "indeces = np.random.choice(indeces, round(len(indeces)*0.005))\n",
    "indeces2 = np.where(arr[:,0] >= th)[0]\n",
    "arr = np.concatenate ((arr[indeces], arr[indeces2]))\n",
    "\n",
    "ax.scatter(arr[:,1], arr[:,2], \n",
    "           arr[:,0],color='green',label='j2',marker='x')\n",
    "\n",
    "plt.legend()\n",
    "plt.tight_layout()\n",
    "plt.show()"
   ]
  },
  {
   "cell_type": "code",
   "execution_count": null,
   "metadata": {},
   "outputs": [],
   "source": []
  }
 ],
 "metadata": {
  "colab": {
   "provenance": []
  },
  "kernelspec": {
   "display_name": "Python [conda env:symbolic3]",
   "language": "python",
   "name": "conda-env-symbolic3-py"
  },
  "language_info": {
   "codemirror_mode": {
    "name": "ipython",
    "version": 3
   },
   "file_extension": ".py",
   "mimetype": "text/x-python",
   "name": "python",
   "nbconvert_exporter": "python",
   "pygments_lexer": "ipython3",
   "version": "3.7.12"
  }
 },
 "nbformat": 4,
 "nbformat_minor": 1
}
