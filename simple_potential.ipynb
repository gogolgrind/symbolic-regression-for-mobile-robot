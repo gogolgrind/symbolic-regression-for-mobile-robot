{
 "cells": [
  {
   "cell_type": "code",
   "execution_count": null,
   "metadata": {
    "id": "4M9RwiDImYWn"
   },
   "outputs": [],
   "source": [
    "import sys\n",
    "import os\n",
    "import random\n",
    "os.environ[\"CUDA_DEVICE_ORDER\"]=\"PCI_BUS_ID\"\n",
    "os.environ[\"CUDA_VISIBLE_DEVICES\"]=\"3\"\n",
    "if os.path.exists('./core'):\n",
    "    os.remove('./core')"
   ]
  },
  {
   "cell_type": "code",
   "execution_count": null,
   "metadata": {
    "id": "lBEclTb5mZ_h"
   },
   "outputs": [],
   "source": [
    "try:\n",
    "    import google.colab\n",
    "    IN_COLAB = True\n",
    "except:\n",
    "    IN_COLAB = False\n",
    "    sys.path.append('../symbolicregression/')"
   ]
  },
  {
   "cell_type": "code",
   "execution_count": null,
   "metadata": {},
   "outputs": [],
   "source": []
  },
  {
   "cell_type": "markdown",
   "metadata": {
    "id": "gF5MCoOs32h_"
   },
   "source": [
    "# Install"
   ]
  },
  {
   "cell_type": "code",
   "execution_count": null,
   "metadata": {
    "id": "vfhWljhtsCFC"
   },
   "outputs": [],
   "source": [
    "%%capture\n",
    "if IN_COLAB:\n",
    "    !pip install -q condacolab\n",
    "    import condacolab\n",
    "    condacolab.install()\n",
    "    !git clone https://github.com/facebookresearch/symbolicregression symbolic\n",
    "    %mv ./symbolic/* ./\n",
    "    %rm -rf symbolic\n",
    "    !conda env create --name symbolic regression --file=environment.yml\n",
    "    !conda init\n",
    "    !activate symbolic\n",
    "    !pip install git+https://github.com/pakamienny/sympytorch\n",
    "    !conda install -c conda-forge pysr\n",
    "    !conda install -c conda-forge julia\n",
    "    !python3 -m pysr install"
   ]
  },
  {
   "cell_type": "code",
   "execution_count": null,
   "metadata": {
    "id": "9uCrdpku18Ey"
   },
   "outputs": [],
   "source": [
    "import pysr\n",
    "from pysr import PySRRegressor\n",
    "pysr.julia_helpers.init_julia()"
   ]
  },
  {
   "cell_type": "code",
   "execution_count": null,
   "metadata": {},
   "outputs": [],
   "source": [
    "from utils import *\n",
    "set_seed(42)"
   ]
  },
  {
   "cell_type": "code",
   "execution_count": null,
   "metadata": {},
   "outputs": [],
   "source": [
    "## Tranfsormer Model"
   ]
  },
  {
   "cell_type": "code",
   "execution_count": null,
   "metadata": {},
   "outputs": [],
   "source": [
    "transformer=get_transformer_model()"
   ]
  },
  {
   "cell_type": "markdown",
   "metadata": {
    "id": "wktkDUtRQk4u"
   },
   "source": [
    "# Known Potential experiment"
   ]
  },
  {
   "cell_type": "code",
   "execution_count": null,
   "metadata": {},
   "outputs": [],
   "source": []
  },
  {
   "cell_type": "code",
   "execution_count": null,
   "metadata": {
    "id": "zYzSQ1pyZYEg"
   },
   "outputs": [],
   "source": [
    "n_samples=30000-1\n",
    "df = get_robot_data(from_sample=False,from_grid=True,\n",
    "                    n_samples=n_samples,\n",
    "                    parameter_static_X=[4,2.5],parameter_static_Y=[4,2.5]).astype('float32')\n",
    "df = df.reset_index().drop('index',1)\n",
    "n_train = int(len(df)*0.9)\n",
    "train_index = np.random.choice(df.index,n_train)\n",
    "test_index = np.array([i for i in df.index if i not in train_index])\n",
    "robot_df_train = df.iloc[train_index]\n",
    "robot_df_test = df.iloc[test_index]\n"
   ]
  },
  {
   "cell_type": "code",
   "execution_count": null,
   "metadata": {
    "id": "SxbwE_5SaeyC"
   },
   "outputs": [],
   "source": [
    "P = robot_df_train['x,y'.split(',')].values\n",
    "j2 = robot_df_train['j2'].values"
   ]
  },
  {
   "cell_type": "code",
   "execution_count": null,
   "metadata": {
    "colab": {
     "base_uri": "https://localhost:8080/"
    },
    "id": "cDHX5bD0aalq",
    "outputId": "83b0f2b0-3836-45bc-ff25-eb9e26139325"
   },
   "outputs": [],
   "source": [
    "t = perf_counter()\n",
    "transformer.fit(P,j2)\n",
    "t = perf_counter() - t"
   ]
  },
  {
   "cell_type": "code",
   "execution_count": null,
   "metadata": {
    "id": "5EKMjufrapKY"
   },
   "outputs": [],
   "source": [
    "replace_ops = {\"add\": \"+\", \"mul\": \"*\", \"sub\": \"-\", \"pow\": \"**\", \"inv\": \"1/\",'x_0':'x','x_1':'y'}\n",
    "transformer_str = transformer.retrieve_tree(with_infos=True)[\"relabed_predicted_tree\"].infix()\n",
    "for op,replace_op in replace_ops.items():\n",
    "    transformer_str = transformer_str.replace(op,replace_op)"
   ]
  },
  {
   "cell_type": "code",
   "execution_count": null,
   "metadata": {
    "id": "HpqAJi4IU0Hr",
    "scrolled": true
   },
   "outputs": [],
   "source": [
    "robot_model_transformer = round_expr(sp.parse_expr(transformer_str),5)"
   ]
  },
  {
   "cell_type": "code",
   "execution_count": null,
   "metadata": {
    "id": "5XJt7bC2O08L"
   },
   "outputs": [],
   "source": [
    "j2_approx_tranfromer=sp.lambdify(['x','y'],robot_model_transformer,\"numpy\")"
   ]
  },
  {
   "cell_type": "code",
   "execution_count": null,
   "metadata": {},
   "outputs": [],
   "source": [
    "str(robot_model_transformer)"
   ]
  },
  {
   "cell_type": "code",
   "execution_count": null,
   "metadata": {
    "colab": {
     "base_uri": "https://localhost:8080/",
     "height": 69
    },
    "id": "VdKSsVS7VVrs",
    "outputId": "a63d2138-9883-4a1e-bbef-ec4ed4d8c522"
   },
   "outputs": [],
   "source": [
    "try:\n",
    "    approx_train = j2_approx_tranfromer(robot_df_train['x'].values,robot_df_train['y'].values)\n",
    "    train_err = mse(approx_train,robot_df_train['j2'])\n",
    "    approx_test = j2_approx_tranfromer(robot_df_test['x'].values,robot_df_test['y'].values)\n",
    "    test_err = mse(approx_test,robot_df_test['j2'])\n",
    "    print(train_err,test_err)\n",
    "except Exception as e:\n",
    "    print(e)"
   ]
  },
  {
   "cell_type": "code",
   "execution_count": null,
   "metadata": {},
   "outputs": [],
   "source": [
    "fig = plt.figure(figsize=(10,10))\n",
    "arr = robot_df_train.values\n",
    "ax = fig.add_subplot(111, projection='3d')\n",
    "ax.scatter(arr[:,1], arr[:,2], \n",
    "           j2_approx_tranfromer(arr[:,1],arr[:,2]),color='red',label='transformer')\n",
    "ax.scatter(arr[:,1], arr[:,2], \n",
    "           arr[:,0],color='green',label='j2')\n",
    "\n",
    "arr = robot_df_test.values\n",
    "\n",
    "ax.scatter(arr[:,1], arr[:,2], \n",
    "           j2_approx_tranfromer(arr[:,1],arr[:,2]),color='red',label='transformer (test)',marker='x')\n",
    "ax.scatter(arr[:,1], arr[:,2], \n",
    "           arr[:,0],color='green',label='j2',marker='x')\n",
    "\n",
    "plt.legend()\n",
    "plt.tight_layout()\n",
    "plt.show()"
   ]
  },
  {
   "cell_type": "code",
   "execution_count": null,
   "metadata": {},
   "outputs": [],
   "source": [
    "nproc = 64"
   ]
  },
  {
   "cell_type": "code",
   "execution_count": null,
   "metadata": {
    "id": "1PfnrzL11sBW"
   },
   "outputs": [],
   "source": [
    "\n",
    "robot_model = PySRRegressor(\n",
    "    niterations=40,  # < Increase me for better results\n",
    "    procs = nproc,\n",
    "    timeout_in_seconds  = 100,\n",
    "    binary_operators=[\"+\",'-', \"*\",],\n",
    "    temp_equation_file=True,\n",
    "    delete_tempfiles=True,\n",
    "    unary_operators=[\n",
    "        \"atan\",\n",
    "        \"exp\",\n",
    "        # ^ Custom operator (julia syntax)\n",
    "    ],\n",
    "    extra_sympy_mappings={\"inv\": lambda x: 1 / x},\n",
    "    # ^ Define operator for SymPy as well\n",
    "    loss=\"loss(prediction, target) = (prediction - target)^2\",\n",
    "    # ^ Custom loss function (julia syntax)\n",
    ")"
   ]
  },
  {
   "cell_type": "code",
   "execution_count": null,
   "metadata": {
    "colab": {
     "base_uri": "https://localhost:8080/"
    },
    "id": "PYcOQRvE18up",
    "outputId": "68f70edf-6460-4536-e677-97322009a754"
   },
   "outputs": [],
   "source": [
    "t2 = perf_counter()\n",
    "robot_model.fit(P[:],j2[:])\n",
    "t2 = perf_counter()-t2"
   ]
  },
  {
   "cell_type": "code",
   "execution_count": null,
   "metadata": {},
   "outputs": [],
   "source": [
    "print(t2)"
   ]
  },
  {
   "cell_type": "code",
   "execution_count": null,
   "metadata": {},
   "outputs": [],
   "source": [
    "if os.path.exists('./core'):\n",
    "    os.remove('./core')"
   ]
  },
  {
   "cell_type": "code",
   "execution_count": null,
   "metadata": {},
   "outputs": [],
   "source": [
    "save_eq = False"
   ]
  },
  {
   "cell_type": "code",
   "execution_count": null,
   "metadata": {
    "id": "Vt7MDYcM2-2d"
   },
   "outputs": [],
   "source": [
    "best_eq_id = robot_model.equations_['loss'].argmin()"
   ]
  },
  {
   "cell_type": "code",
   "execution_count": null,
   "metadata": {
    "colab": {
     "base_uri": "https://localhost:8080/",
     "height": 582
    },
    "id": "-cPY4mHYbfy6",
    "outputId": "a5c03bbc-bb9c-44fa-e47e-09d3f06d0a3b"
   },
   "outputs": [],
   "source": [
    "if save_eq:\n",
    "    robot_model.equations_.to_csv('./'+'robot_model.equations_.csv'.replace('.','_'))"
   ]
  },
  {
   "cell_type": "code",
   "execution_count": null,
   "metadata": {
    "colab": {
     "base_uri": "https://localhost:8080/",
     "height": 59
    },
    "id": "pYiSLxksn8Vf",
    "outputId": "3ed6eddf-9c14-40c1-c51e-69a6ce0236a0"
   },
   "outputs": [],
   "source": [
    "robot_model_pysr = robot_model.equations_.iloc[best_eq_id]['equation']\n",
    "robot_model_pysr = str(round_expr(sp.parse_expr(robot_model_pysr),5)).replace('x0','x').replace('x1','y').replace('atan','arctan')"
   ]
  },
  {
   "cell_type": "code",
   "execution_count": null,
   "metadata": {},
   "outputs": [],
   "source": [
    "str(robot_model_pysr)"
   ]
  },
  {
   "cell_type": "code",
   "execution_count": null,
   "metadata": {
    "id": "to5_0NYZ37Vk"
   },
   "outputs": [],
   "source": [
    "j2_approx_pysr=sp.lambdify(['x','y'],robot_model_pysr, modules=[\"numpy\"])"
   ]
  },
  {
   "cell_type": "code",
   "execution_count": null,
   "metadata": {
    "colab": {
     "base_uri": "https://localhost:8080/"
    },
    "id": "IwHOHQSY6UHZ",
    "outputId": "e9f0f5d6-3494-454d-b124-b384d6a60336"
   },
   "outputs": [],
   "source": [
    "try:\n",
    "    approx_train = j2_approx_pysr(robot_df_train['x'].values,robot_df_train['y'].values)\n",
    "    train_err = mse(approx_train,robot_df_train['j2'])\n",
    "    approx_test = j2_approx_pysr(robot_df_test['x'].values,robot_df_test['y'].values)\n",
    "    test_err = mse(approx_test,robot_df_test['j2'])\n",
    "    print(train_err,test_err)\n",
    "except Exception as e:\n",
    "    print(e)"
   ]
  },
  {
   "cell_type": "code",
   "execution_count": null,
   "metadata": {},
   "outputs": [],
   "source": [
    "np.arctan"
   ]
  },
  {
   "cell_type": "code",
   "execution_count": null,
   "metadata": {},
   "outputs": [],
   "source": [
    "params = {'text.usetex' : False,\n",
    "          'font.size' : 36,\n",
    "          'legend.fancybox':True,\n",
    "          'legend.loc' : 'best',\n",
    "\n",
    "          'legend.framealpha': 0.9,\n",
    "          \"legend.fontsize\" : 21,\n",
    "         }\n",
    "plt.rcParams.update(params)"
   ]
  },
  {
   "cell_type": "code",
   "execution_count": null,
   "metadata": {},
   "outputs": [],
   "source": [
    "fig = plt.figure(figsize=(15,15))\n",
    "arr = robot_df_train.values\n",
    "s=90\n",
    "ax = fig.add_subplot(111, projection='3d')\n",
    "plt.xlabel(\"x\")\n",
    "plt.ylabel(\"y\")\n",
    "ax.scatter(arr[:,1], arr[:,2], \n",
    "           j2_approx_tranfromer(arr[:,1],arr[:,2]),color='red',label='transformer',s=s)\n",
    "ax.scatter(arr[:,1], arr[:,2], \n",
    "           j2_approx_pysr(arr[:,1],arr[:,2]),color='magenta',label='pysr',s=s)\n",
    "ax.scatter(arr[:,1], arr[:,2], \n",
    "           arr[:,0],color='green',label='j2',s=s)\n",
    "\n",
    "arr = robot_df_test.values\n",
    "\n",
    "ax.scatter(arr[:,1], arr[:,2], \n",
    "           j2_approx_tranfromer(arr[:,1],arr[:,2]),color='red',marker='x',s=s)\n",
    "ax.scatter(arr[:,1], arr[:,2], \n",
    "           j2_approx_pysr(arr[:,1],arr[:,2]),color='magenta',marker='x',s=s)\n",
    "ax.scatter(arr[:,1], arr[:,2], \n",
    "           arr[:,0],color='green',marker='x',s=s)\n",
    "ax.scatter(0,0,color='black',marker='o',label='train',s=90)\n",
    "ax.scatter(0,0,color='black',marker='x',label='test',s=90)\n",
    "\n",
    "plt.legend()\n",
    "plt.tight_layout()"
   ]
  },
  {
   "cell_type": "markdown",
   "metadata": {},
   "source": [
    "## equations"
   ]
  },
  {
   "cell_type": "code",
   "execution_count": null,
   "metadata": {},
   "outputs": [],
   "source": [
    "print(robot_model_transformer)"
   ]
  },
  {
   "cell_type": "code",
   "execution_count": null,
   "metadata": {},
   "outputs": [],
   "source": [
    "print(robot_model_pysr)"
   ]
  },
  {
   "cell_type": "code",
   "execution_count": null,
   "metadata": {},
   "outputs": [],
   "source": []
  },
  {
   "cell_type": "code",
   "execution_count": null,
   "metadata": {},
   "outputs": [],
   "source": []
  }
 ],
 "metadata": {
  "colab": {
   "provenance": []
  },
  "kernelspec": {
   "display_name": "Python [conda env:symbolic3]",
   "language": "python",
   "name": "conda-env-symbolic3-py"
  },
  "language_info": {
   "codemirror_mode": {
    "name": "ipython",
    "version": 3
   },
   "file_extension": ".py",
   "mimetype": "text/x-python",
   "name": "python",
   "nbconvert_exporter": "python",
   "pygments_lexer": "ipython3",
   "version": "3.7.12"
  }
 },
 "nbformat": 4,
 "nbformat_minor": 1
}
